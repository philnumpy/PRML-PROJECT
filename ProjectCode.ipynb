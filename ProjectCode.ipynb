{
  "nbformat": 4,
  "nbformat_minor": 0,
  "metadata": {
    "colab": {
      "provenance": [],
      "authorship_tag": "ABX9TyNv2EJjUXu82lzqr2SWSSGG",
      "include_colab_link": true
    },
    "kernelspec": {
      "name": "python3",
      "display_name": "Python 3"
    },
    "language_info": {
      "name": "python"
    }
  },
  "cells": [
    {
      "cell_type": "markdown",
      "metadata": {
        "id": "view-in-github",
        "colab_type": "text"
      },
      "source": [
        "<a href=\"https://colab.research.google.com/github/philnumpy/PRML-PROJECT/blob/main/ProjectCode.ipynb\" target=\"_parent\"><img src=\"https://colab.research.google.com/assets/colab-badge.svg\" alt=\"Open In Colab\"/></a>"
      ]
    },
    {
      "cell_type": "code",
      "execution_count": null,
      "metadata": {
        "id": "e5_8OP_hzZoA"
      },
      "outputs": [],
      "source": [
        "import pandas as pd #panel data that helps manipulate data\n",
        "import numpy as np\n",
        "from sklearn.preprocessing import StandardScaler#to scale and normalise data"
      ]
    },
    {
      "cell_type": "code",
      "source": [
        "#loading the original dataset\n",
        "original_data=pd.read_csv('/content/spotify_tracks.csv')"
      ],
      "metadata": {
        "id": "I4-6WRwmzh_z"
      },
      "execution_count": null,
      "outputs": []
    },
    {
      "cell_type": "code",
      "source": [
        "#getting data info to detect any null or duplicate values\n",
        "original_data.info()"
      ],
      "metadata": {
        "colab": {
          "base_uri": "https://localhost:8080/"
        },
        "id": "uqZGm6uPzuXD",
        "outputId": "06edc6b7-2df8-481b-ad54-49f160e70300"
      },
      "execution_count": null,
      "outputs": [
        {
          "output_type": "stream",
          "name": "stdout",
          "text": [
            "<class 'pandas.core.frame.DataFrame'>\n",
            "RangeIndex: 62317 entries, 0 to 62316\n",
            "Data columns (total 22 columns):\n",
            " #   Column            Non-Null Count  Dtype  \n",
            "---  ------            --------------  -----  \n",
            " 0   track_id          62317 non-null  object \n",
            " 1   track_name        62317 non-null  object \n",
            " 2   artist_name       62317 non-null  object \n",
            " 3   year              62317 non-null  int64  \n",
            " 4   popularity        62317 non-null  int64  \n",
            " 5   artwork_url       62317 non-null  object \n",
            " 6   album_name        62317 non-null  object \n",
            " 7   acousticness      62317 non-null  float64\n",
            " 8   danceability      62317 non-null  float64\n",
            " 9   duration_ms       62317 non-null  float64\n",
            " 10  energy            62317 non-null  float64\n",
            " 11  instrumentalness  62317 non-null  float64\n",
            " 12  key               62317 non-null  float64\n",
            " 13  liveness          62317 non-null  float64\n",
            " 14  loudness          62317 non-null  float64\n",
            " 15  mode              62317 non-null  float64\n",
            " 16  speechiness       62317 non-null  float64\n",
            " 17  tempo             62317 non-null  float64\n",
            " 18  time_signature    62317 non-null  float64\n",
            " 19  valence           62317 non-null  float64\n",
            " 20  track_url         62317 non-null  object \n",
            " 21  language          62317 non-null  object \n",
            "dtypes: float64(13), int64(2), object(7)\n",
            "memory usage: 10.5+ MB\n"
          ]
        }
      ]
    },
    {
      "cell_type": "code",
      "source": [
        "#dropping any duplicate values\n",
        "original_data.drop_duplicates()"
      ],
      "metadata": {
        "colab": {
          "base_uri": "https://localhost:8080/",
          "height": 947
        },
        "collapsed": true,
        "id": "TZC8AiS6zwO9",
        "outputId": "fb776c4b-c644-4281-c124-073fc1ead106"
      },
      "execution_count": null,
      "outputs": [
        {
          "output_type": "execute_result",
          "data": {
            "text/plain": [
              "                     track_id                                  track_name  \\\n",
              "0      2r0ROhr7pRN4MXDMT1fEmd                  Leo Das Entry (From \"Leo\")   \n",
              "1      4I38e6Dg52a2o2a8i5Q5PW                                AAO KILLELLE   \n",
              "2      59NoiRhnom3lTeRFaBzOev      Mayakiriye Sirikiriye - Orchestral EDM   \n",
              "3      5uUqRQd385pvLxC8JX3tXn    Scene Ah Scene Ah - Experimental EDM Mix   \n",
              "4      1KaBRg2xgNeCljmyxBH1mo  Gundellonaa X I Am A Disco Dancer - Mashup   \n",
              "...                       ...                                         ...   \n",
              "62312  3eHDwMQYPEziy2DWRBNoLv                        Sani - G.O.A.T Remix   \n",
              "62313  5hHtCqkNv5eo99OrEFFcgS                            Life of Bachelor   \n",
              "62314  08foF9YHgKmIgOy3xMWRZy                                     Yo Baby   \n",
              "62315  2wLFbVlQGKJSd9lwzwL47F                           Fast Fast Vadiley   \n",
              "62316  5OYxwYeFfumMTAoAdVeet3             Moonu Moonu Moonu (From \"3:33\")   \n",
              "\n",
              "                                             artist_name  year  popularity  \\\n",
              "0                                    Anirudh Ravichander  2024          59   \n",
              "1      Anirudh Ravichander, Pravin Mani, Vaishali Sri...  2024          47   \n",
              "2               Anirudh Ravichander, Anivee, Alvin Bruno  2024          35   \n",
              "3      Anirudh Ravichander, Bharath Sankar, Kabilan, ...  2024          24   \n",
              "4      Anirudh Ravichander, Benny Dayal, Leon James, ...  2024          22   \n",
              "...                                                  ...   ...         ...   \n",
              "62312  Arvind Raj, Sheezay, Music Kitchen, FSPROD Vin...  2021          30   \n",
              "62313  A H Kaashif, Navakkarai Naveen Prabanjam, Asal...  2021          30   \n",
              "62314         Rakesh Ambigapathy, Asal Kolaar, MC Vickey  2021          18   \n",
              "62315          Asal Kolaar, Priyadarshan Balasubramanian  2021           1   \n",
              "62316  Harshavardhan Rameshwar, G. V. Prakash, Dharma...  2021           1   \n",
              "\n",
              "                                             artwork_url  \\\n",
              "0      https://i.scdn.co/image/ab67616d0000b273ce9c65...   \n",
              "1      https://i.scdn.co/image/ab67616d0000b273be1b03...   \n",
              "2      https://i.scdn.co/image/ab67616d0000b27334a1dd...   \n",
              "3      https://i.scdn.co/image/ab67616d0000b27332e623...   \n",
              "4      https://i.scdn.co/image/ab67616d0000b2735a59b6...   \n",
              "...                                                  ...   \n",
              "62312  https://i.scdn.co/image/ab67616d0000b273819d23...   \n",
              "62313  https://i.scdn.co/image/ab67616d0000b2736cd651...   \n",
              "62314  https://i.scdn.co/image/ab67616d0000b27300da25...   \n",
              "62315  https://i.scdn.co/image/ab67616d0000b273e051e1...   \n",
              "62316  https://i.scdn.co/image/ab67616d0000b273efd671...   \n",
              "\n",
              "                                          album_name  acousticness  \\\n",
              "0                         Leo Das Entry (From \"Leo\")       0.02410   \n",
              "1                                       AAO KILLELLE       0.08510   \n",
              "2             Mayakiriye Sirikiriye (Orchestral EDM)       0.03110   \n",
              "3           Scene Ah Scene Ah (Experimental EDM Mix)       0.22700   \n",
              "4         Gundellonaa X I Am a Disco Dancer (Mashup)       0.01530   \n",
              "...                                              ...           ...   \n",
              "62312                           Sani (G.O.A.T Remix)       0.08490   \n",
              "62313  Bachelor (Original Motion Picture Soundtrack)       0.07880   \n",
              "62314                                        Yo Baby       0.00918   \n",
              "62315                                Arjuna Phalguna       0.10100   \n",
              "62316                Moonu Moonu Moonu (From \"3:33\")       0.18600   \n",
              "\n",
              "       danceability  duration_ms  ...   key  liveness  loudness  mode  \\\n",
              "0             0.753      97297.0  ...   8.0    0.1000    -5.994   0.0   \n",
              "1             0.780     207369.0  ...  10.0    0.0951    -5.674   0.0   \n",
              "2             0.457      82551.0  ...   2.0    0.0831    -8.937   0.0   \n",
              "3             0.718     115831.0  ...   7.0    0.1240   -11.104   1.0   \n",
              "4             0.689     129621.0  ...   7.0    0.3450    -9.637   1.0   \n",
              "...             ...          ...  ...   ...       ...       ...   ...   \n",
              "62312         0.877     359718.0  ...   7.0    0.1100   -11.458   1.0   \n",
              "62313         0.833     154364.0  ...   8.0    0.2670    -5.061   1.0   \n",
              "62314         0.842     234000.0  ...   7.0    0.0790    -5.855   1.0   \n",
              "62315         0.682     180807.0  ...   1.0    0.3200    -6.061   1.0   \n",
              "62316         0.817     202667.0  ...   6.0    0.3780    -7.353   0.0   \n",
              "\n",
              "       speechiness    tempo  time_signature  valence  \\\n",
              "0           0.1030  110.997             4.0    0.459   \n",
              "1           0.0952  164.995             3.0    0.821   \n",
              "2           0.1530  169.996             4.0    0.598   \n",
              "3           0.4450  169.996             4.0    0.362   \n",
              "4           0.1580  128.961             4.0    0.593   \n",
              "...            ...      ...             ...      ...   \n",
              "62312       0.3530  100.024             4.0    0.504   \n",
              "62313       0.0813  110.041             4.0    0.524   \n",
              "62314       0.1370  122.038             4.0    0.669   \n",
              "62315       0.2850   74.993             4.0    0.439   \n",
              "62316       0.1170   89.975             4.0    0.837   \n",
              "\n",
              "                                               track_url  language  \n",
              "0      https://open.spotify.com/track/2r0ROhr7pRN4MXD...     Tamil  \n",
              "1      https://open.spotify.com/track/4I38e6Dg52a2o2a...     Tamil  \n",
              "2      https://open.spotify.com/track/59NoiRhnom3lTeR...     Tamil  \n",
              "3      https://open.spotify.com/track/5uUqRQd385pvLxC...     Tamil  \n",
              "4      https://open.spotify.com/track/1KaBRg2xgNeCljm...     Tamil  \n",
              "...                                                  ...       ...  \n",
              "62312  https://open.spotify.com/track/3eHDwMQYPEziy2D...     Tamil  \n",
              "62313  https://open.spotify.com/track/5hHtCqkNv5eo99O...     Tamil  \n",
              "62314  https://open.spotify.com/track/08foF9YHgKmIgOy...     Tamil  \n",
              "62315  https://open.spotify.com/track/2wLFbVlQGKJSd9l...     Tamil  \n",
              "62316  https://open.spotify.com/track/5OYxwYeFfumMTAo...     Tamil  \n",
              "\n",
              "[62239 rows x 22 columns]"
            ],
            "text/html": [
              "\n",
              "  <div id=\"df-6637bb9d-e619-4182-9f96-6a7efe9f1880\" class=\"colab-df-container\">\n",
              "    <div>\n",
              "<style scoped>\n",
              "    .dataframe tbody tr th:only-of-type {\n",
              "        vertical-align: middle;\n",
              "    }\n",
              "\n",
              "    .dataframe tbody tr th {\n",
              "        vertical-align: top;\n",
              "    }\n",
              "\n",
              "    .dataframe thead th {\n",
              "        text-align: right;\n",
              "    }\n",
              "</style>\n",
              "<table border=\"1\" class=\"dataframe\">\n",
              "  <thead>\n",
              "    <tr style=\"text-align: right;\">\n",
              "      <th></th>\n",
              "      <th>track_id</th>\n",
              "      <th>track_name</th>\n",
              "      <th>artist_name</th>\n",
              "      <th>year</th>\n",
              "      <th>popularity</th>\n",
              "      <th>artwork_url</th>\n",
              "      <th>album_name</th>\n",
              "      <th>acousticness</th>\n",
              "      <th>danceability</th>\n",
              "      <th>duration_ms</th>\n",
              "      <th>...</th>\n",
              "      <th>key</th>\n",
              "      <th>liveness</th>\n",
              "      <th>loudness</th>\n",
              "      <th>mode</th>\n",
              "      <th>speechiness</th>\n",
              "      <th>tempo</th>\n",
              "      <th>time_signature</th>\n",
              "      <th>valence</th>\n",
              "      <th>track_url</th>\n",
              "      <th>language</th>\n",
              "    </tr>\n",
              "  </thead>\n",
              "  <tbody>\n",
              "    <tr>\n",
              "      <th>0</th>\n",
              "      <td>2r0ROhr7pRN4MXDMT1fEmd</td>\n",
              "      <td>Leo Das Entry (From \"Leo\")</td>\n",
              "      <td>Anirudh Ravichander</td>\n",
              "      <td>2024</td>\n",
              "      <td>59</td>\n",
              "      <td>https://i.scdn.co/image/ab67616d0000b273ce9c65...</td>\n",
              "      <td>Leo Das Entry (From \"Leo\")</td>\n",
              "      <td>0.02410</td>\n",
              "      <td>0.753</td>\n",
              "      <td>97297.0</td>\n",
              "      <td>...</td>\n",
              "      <td>8.0</td>\n",
              "      <td>0.1000</td>\n",
              "      <td>-5.994</td>\n",
              "      <td>0.0</td>\n",
              "      <td>0.1030</td>\n",
              "      <td>110.997</td>\n",
              "      <td>4.0</td>\n",
              "      <td>0.459</td>\n",
              "      <td>https://open.spotify.com/track/2r0ROhr7pRN4MXD...</td>\n",
              "      <td>Tamil</td>\n",
              "    </tr>\n",
              "    <tr>\n",
              "      <th>1</th>\n",
              "      <td>4I38e6Dg52a2o2a8i5Q5PW</td>\n",
              "      <td>AAO KILLELLE</td>\n",
              "      <td>Anirudh Ravichander, Pravin Mani, Vaishali Sri...</td>\n",
              "      <td>2024</td>\n",
              "      <td>47</td>\n",
              "      <td>https://i.scdn.co/image/ab67616d0000b273be1b03...</td>\n",
              "      <td>AAO KILLELLE</td>\n",
              "      <td>0.08510</td>\n",
              "      <td>0.780</td>\n",
              "      <td>207369.0</td>\n",
              "      <td>...</td>\n",
              "      <td>10.0</td>\n",
              "      <td>0.0951</td>\n",
              "      <td>-5.674</td>\n",
              "      <td>0.0</td>\n",
              "      <td>0.0952</td>\n",
              "      <td>164.995</td>\n",
              "      <td>3.0</td>\n",
              "      <td>0.821</td>\n",
              "      <td>https://open.spotify.com/track/4I38e6Dg52a2o2a...</td>\n",
              "      <td>Tamil</td>\n",
              "    </tr>\n",
              "    <tr>\n",
              "      <th>2</th>\n",
              "      <td>59NoiRhnom3lTeRFaBzOev</td>\n",
              "      <td>Mayakiriye Sirikiriye - Orchestral EDM</td>\n",
              "      <td>Anirudh Ravichander, Anivee, Alvin Bruno</td>\n",
              "      <td>2024</td>\n",
              "      <td>35</td>\n",
              "      <td>https://i.scdn.co/image/ab67616d0000b27334a1dd...</td>\n",
              "      <td>Mayakiriye Sirikiriye (Orchestral EDM)</td>\n",
              "      <td>0.03110</td>\n",
              "      <td>0.457</td>\n",
              "      <td>82551.0</td>\n",
              "      <td>...</td>\n",
              "      <td>2.0</td>\n",
              "      <td>0.0831</td>\n",
              "      <td>-8.937</td>\n",
              "      <td>0.0</td>\n",
              "      <td>0.1530</td>\n",
              "      <td>169.996</td>\n",
              "      <td>4.0</td>\n",
              "      <td>0.598</td>\n",
              "      <td>https://open.spotify.com/track/59NoiRhnom3lTeR...</td>\n",
              "      <td>Tamil</td>\n",
              "    </tr>\n",
              "    <tr>\n",
              "      <th>3</th>\n",
              "      <td>5uUqRQd385pvLxC8JX3tXn</td>\n",
              "      <td>Scene Ah Scene Ah - Experimental EDM Mix</td>\n",
              "      <td>Anirudh Ravichander, Bharath Sankar, Kabilan, ...</td>\n",
              "      <td>2024</td>\n",
              "      <td>24</td>\n",
              "      <td>https://i.scdn.co/image/ab67616d0000b27332e623...</td>\n",
              "      <td>Scene Ah Scene Ah (Experimental EDM Mix)</td>\n",
              "      <td>0.22700</td>\n",
              "      <td>0.718</td>\n",
              "      <td>115831.0</td>\n",
              "      <td>...</td>\n",
              "      <td>7.0</td>\n",
              "      <td>0.1240</td>\n",
              "      <td>-11.104</td>\n",
              "      <td>1.0</td>\n",
              "      <td>0.4450</td>\n",
              "      <td>169.996</td>\n",
              "      <td>4.0</td>\n",
              "      <td>0.362</td>\n",
              "      <td>https://open.spotify.com/track/5uUqRQd385pvLxC...</td>\n",
              "      <td>Tamil</td>\n",
              "    </tr>\n",
              "    <tr>\n",
              "      <th>4</th>\n",
              "      <td>1KaBRg2xgNeCljmyxBH1mo</td>\n",
              "      <td>Gundellonaa X I Am A Disco Dancer - Mashup</td>\n",
              "      <td>Anirudh Ravichander, Benny Dayal, Leon James, ...</td>\n",
              "      <td>2024</td>\n",
              "      <td>22</td>\n",
              "      <td>https://i.scdn.co/image/ab67616d0000b2735a59b6...</td>\n",
              "      <td>Gundellonaa X I Am a Disco Dancer (Mashup)</td>\n",
              "      <td>0.01530</td>\n",
              "      <td>0.689</td>\n",
              "      <td>129621.0</td>\n",
              "      <td>...</td>\n",
              "      <td>7.0</td>\n",
              "      <td>0.3450</td>\n",
              "      <td>-9.637</td>\n",
              "      <td>1.0</td>\n",
              "      <td>0.1580</td>\n",
              "      <td>128.961</td>\n",
              "      <td>4.0</td>\n",
              "      <td>0.593</td>\n",
              "      <td>https://open.spotify.com/track/1KaBRg2xgNeCljm...</td>\n",
              "      <td>Tamil</td>\n",
              "    </tr>\n",
              "    <tr>\n",
              "      <th>...</th>\n",
              "      <td>...</td>\n",
              "      <td>...</td>\n",
              "      <td>...</td>\n",
              "      <td>...</td>\n",
              "      <td>...</td>\n",
              "      <td>...</td>\n",
              "      <td>...</td>\n",
              "      <td>...</td>\n",
              "      <td>...</td>\n",
              "      <td>...</td>\n",
              "      <td>...</td>\n",
              "      <td>...</td>\n",
              "      <td>...</td>\n",
              "      <td>...</td>\n",
              "      <td>...</td>\n",
              "      <td>...</td>\n",
              "      <td>...</td>\n",
              "      <td>...</td>\n",
              "      <td>...</td>\n",
              "      <td>...</td>\n",
              "      <td>...</td>\n",
              "    </tr>\n",
              "    <tr>\n",
              "      <th>62312</th>\n",
              "      <td>3eHDwMQYPEziy2DWRBNoLv</td>\n",
              "      <td>Sani - G.O.A.T Remix</td>\n",
              "      <td>Arvind Raj, Sheezay, Music Kitchen, FSPROD Vin...</td>\n",
              "      <td>2021</td>\n",
              "      <td>30</td>\n",
              "      <td>https://i.scdn.co/image/ab67616d0000b273819d23...</td>\n",
              "      <td>Sani (G.O.A.T Remix)</td>\n",
              "      <td>0.08490</td>\n",
              "      <td>0.877</td>\n",
              "      <td>359718.0</td>\n",
              "      <td>...</td>\n",
              "      <td>7.0</td>\n",
              "      <td>0.1100</td>\n",
              "      <td>-11.458</td>\n",
              "      <td>1.0</td>\n",
              "      <td>0.3530</td>\n",
              "      <td>100.024</td>\n",
              "      <td>4.0</td>\n",
              "      <td>0.504</td>\n",
              "      <td>https://open.spotify.com/track/3eHDwMQYPEziy2D...</td>\n",
              "      <td>Tamil</td>\n",
              "    </tr>\n",
              "    <tr>\n",
              "      <th>62313</th>\n",
              "      <td>5hHtCqkNv5eo99OrEFFcgS</td>\n",
              "      <td>Life of Bachelor</td>\n",
              "      <td>A H Kaashif, Navakkarai Naveen Prabanjam, Asal...</td>\n",
              "      <td>2021</td>\n",
              "      <td>30</td>\n",
              "      <td>https://i.scdn.co/image/ab67616d0000b2736cd651...</td>\n",
              "      <td>Bachelor (Original Motion Picture Soundtrack)</td>\n",
              "      <td>0.07880</td>\n",
              "      <td>0.833</td>\n",
              "      <td>154364.0</td>\n",
              "      <td>...</td>\n",
              "      <td>8.0</td>\n",
              "      <td>0.2670</td>\n",
              "      <td>-5.061</td>\n",
              "      <td>1.0</td>\n",
              "      <td>0.0813</td>\n",
              "      <td>110.041</td>\n",
              "      <td>4.0</td>\n",
              "      <td>0.524</td>\n",
              "      <td>https://open.spotify.com/track/5hHtCqkNv5eo99O...</td>\n",
              "      <td>Tamil</td>\n",
              "    </tr>\n",
              "    <tr>\n",
              "      <th>62314</th>\n",
              "      <td>08foF9YHgKmIgOy3xMWRZy</td>\n",
              "      <td>Yo Baby</td>\n",
              "      <td>Rakesh Ambigapathy, Asal Kolaar, MC Vickey</td>\n",
              "      <td>2021</td>\n",
              "      <td>18</td>\n",
              "      <td>https://i.scdn.co/image/ab67616d0000b27300da25...</td>\n",
              "      <td>Yo Baby</td>\n",
              "      <td>0.00918</td>\n",
              "      <td>0.842</td>\n",
              "      <td>234000.0</td>\n",
              "      <td>...</td>\n",
              "      <td>7.0</td>\n",
              "      <td>0.0790</td>\n",
              "      <td>-5.855</td>\n",
              "      <td>1.0</td>\n",
              "      <td>0.1370</td>\n",
              "      <td>122.038</td>\n",
              "      <td>4.0</td>\n",
              "      <td>0.669</td>\n",
              "      <td>https://open.spotify.com/track/08foF9YHgKmIgOy...</td>\n",
              "      <td>Tamil</td>\n",
              "    </tr>\n",
              "    <tr>\n",
              "      <th>62315</th>\n",
              "      <td>2wLFbVlQGKJSd9lwzwL47F</td>\n",
              "      <td>Fast Fast Vadiley</td>\n",
              "      <td>Asal Kolaar, Priyadarshan Balasubramanian</td>\n",
              "      <td>2021</td>\n",
              "      <td>1</td>\n",
              "      <td>https://i.scdn.co/image/ab67616d0000b273e051e1...</td>\n",
              "      <td>Arjuna Phalguna</td>\n",
              "      <td>0.10100</td>\n",
              "      <td>0.682</td>\n",
              "      <td>180807.0</td>\n",
              "      <td>...</td>\n",
              "      <td>1.0</td>\n",
              "      <td>0.3200</td>\n",
              "      <td>-6.061</td>\n",
              "      <td>1.0</td>\n",
              "      <td>0.2850</td>\n",
              "      <td>74.993</td>\n",
              "      <td>4.0</td>\n",
              "      <td>0.439</td>\n",
              "      <td>https://open.spotify.com/track/2wLFbVlQGKJSd9l...</td>\n",
              "      <td>Tamil</td>\n",
              "    </tr>\n",
              "    <tr>\n",
              "      <th>62316</th>\n",
              "      <td>5OYxwYeFfumMTAoAdVeet3</td>\n",
              "      <td>Moonu Moonu Moonu (From \"3:33\")</td>\n",
              "      <td>Harshavardhan Rameshwar, G. V. Prakash, Dharma...</td>\n",
              "      <td>2021</td>\n",
              "      <td>1</td>\n",
              "      <td>https://i.scdn.co/image/ab67616d0000b273efd671...</td>\n",
              "      <td>Moonu Moonu Moonu (From \"3:33\")</td>\n",
              "      <td>0.18600</td>\n",
              "      <td>0.817</td>\n",
              "      <td>202667.0</td>\n",
              "      <td>...</td>\n",
              "      <td>6.0</td>\n",
              "      <td>0.3780</td>\n",
              "      <td>-7.353</td>\n",
              "      <td>0.0</td>\n",
              "      <td>0.1170</td>\n",
              "      <td>89.975</td>\n",
              "      <td>4.0</td>\n",
              "      <td>0.837</td>\n",
              "      <td>https://open.spotify.com/track/5OYxwYeFfumMTAo...</td>\n",
              "      <td>Tamil</td>\n",
              "    </tr>\n",
              "  </tbody>\n",
              "</table>\n",
              "<p>62239 rows × 22 columns</p>\n",
              "</div>\n",
              "    <div class=\"colab-df-buttons\">\n",
              "\n",
              "  <div class=\"colab-df-container\">\n",
              "    <button class=\"colab-df-convert\" onclick=\"convertToInteractive('df-6637bb9d-e619-4182-9f96-6a7efe9f1880')\"\n",
              "            title=\"Convert this dataframe to an interactive table.\"\n",
              "            style=\"display:none;\">\n",
              "\n",
              "  <svg xmlns=\"http://www.w3.org/2000/svg\" height=\"24px\" viewBox=\"0 -960 960 960\">\n",
              "    <path d=\"M120-120v-720h720v720H120Zm60-500h600v-160H180v160Zm220 220h160v-160H400v160Zm0 220h160v-160H400v160ZM180-400h160v-160H180v160Zm440 0h160v-160H620v160ZM180-180h160v-160H180v160Zm440 0h160v-160H620v160Z\"/>\n",
              "  </svg>\n",
              "    </button>\n",
              "\n",
              "  <style>\n",
              "    .colab-df-container {\n",
              "      display:flex;\n",
              "      gap: 12px;\n",
              "    }\n",
              "\n",
              "    .colab-df-convert {\n",
              "      background-color: #E8F0FE;\n",
              "      border: none;\n",
              "      border-radius: 50%;\n",
              "      cursor: pointer;\n",
              "      display: none;\n",
              "      fill: #1967D2;\n",
              "      height: 32px;\n",
              "      padding: 0 0 0 0;\n",
              "      width: 32px;\n",
              "    }\n",
              "\n",
              "    .colab-df-convert:hover {\n",
              "      background-color: #E2EBFA;\n",
              "      box-shadow: 0px 1px 2px rgba(60, 64, 67, 0.3), 0px 1px 3px 1px rgba(60, 64, 67, 0.15);\n",
              "      fill: #174EA6;\n",
              "    }\n",
              "\n",
              "    .colab-df-buttons div {\n",
              "      margin-bottom: 4px;\n",
              "    }\n",
              "\n",
              "    [theme=dark] .colab-df-convert {\n",
              "      background-color: #3B4455;\n",
              "      fill: #D2E3FC;\n",
              "    }\n",
              "\n",
              "    [theme=dark] .colab-df-convert:hover {\n",
              "      background-color: #434B5C;\n",
              "      box-shadow: 0px 1px 3px 1px rgba(0, 0, 0, 0.15);\n",
              "      filter: drop-shadow(0px 1px 2px rgba(0, 0, 0, 0.3));\n",
              "      fill: #FFFFFF;\n",
              "    }\n",
              "  </style>\n",
              "\n",
              "    <script>\n",
              "      const buttonEl =\n",
              "        document.querySelector('#df-6637bb9d-e619-4182-9f96-6a7efe9f1880 button.colab-df-convert');\n",
              "      buttonEl.style.display =\n",
              "        google.colab.kernel.accessAllowed ? 'block' : 'none';\n",
              "\n",
              "      async function convertToInteractive(key) {\n",
              "        const element = document.querySelector('#df-6637bb9d-e619-4182-9f96-6a7efe9f1880');\n",
              "        const dataTable =\n",
              "          await google.colab.kernel.invokeFunction('convertToInteractive',\n",
              "                                                    [key], {});\n",
              "        if (!dataTable) return;\n",
              "\n",
              "        const docLinkHtml = 'Like what you see? Visit the ' +\n",
              "          '<a target=\"_blank\" href=https://colab.research.google.com/notebooks/data_table.ipynb>data table notebook</a>'\n",
              "          + ' to learn more about interactive tables.';\n",
              "        element.innerHTML = '';\n",
              "        dataTable['output_type'] = 'display_data';\n",
              "        await google.colab.output.renderOutput(dataTable, element);\n",
              "        const docLink = document.createElement('div');\n",
              "        docLink.innerHTML = docLinkHtml;\n",
              "        element.appendChild(docLink);\n",
              "      }\n",
              "    </script>\n",
              "  </div>\n",
              "\n",
              "\n",
              "<div id=\"df-540679f0-43c8-440e-9601-82020e7f5bdb\">\n",
              "  <button class=\"colab-df-quickchart\" onclick=\"quickchart('df-540679f0-43c8-440e-9601-82020e7f5bdb')\"\n",
              "            title=\"Suggest charts\"\n",
              "            style=\"display:none;\">\n",
              "\n",
              "<svg xmlns=\"http://www.w3.org/2000/svg\" height=\"24px\"viewBox=\"0 0 24 24\"\n",
              "     width=\"24px\">\n",
              "    <g>\n",
              "        <path d=\"M19 3H5c-1.1 0-2 .9-2 2v14c0 1.1.9 2 2 2h14c1.1 0 2-.9 2-2V5c0-1.1-.9-2-2-2zM9 17H7v-7h2v7zm4 0h-2V7h2v10zm4 0h-2v-4h2v4z\"/>\n",
              "    </g>\n",
              "</svg>\n",
              "  </button>\n",
              "\n",
              "<style>\n",
              "  .colab-df-quickchart {\n",
              "      --bg-color: #E8F0FE;\n",
              "      --fill-color: #1967D2;\n",
              "      --hover-bg-color: #E2EBFA;\n",
              "      --hover-fill-color: #174EA6;\n",
              "      --disabled-fill-color: #AAA;\n",
              "      --disabled-bg-color: #DDD;\n",
              "  }\n",
              "\n",
              "  [theme=dark] .colab-df-quickchart {\n",
              "      --bg-color: #3B4455;\n",
              "      --fill-color: #D2E3FC;\n",
              "      --hover-bg-color: #434B5C;\n",
              "      --hover-fill-color: #FFFFFF;\n",
              "      --disabled-bg-color: #3B4455;\n",
              "      --disabled-fill-color: #666;\n",
              "  }\n",
              "\n",
              "  .colab-df-quickchart {\n",
              "    background-color: var(--bg-color);\n",
              "    border: none;\n",
              "    border-radius: 50%;\n",
              "    cursor: pointer;\n",
              "    display: none;\n",
              "    fill: var(--fill-color);\n",
              "    height: 32px;\n",
              "    padding: 0;\n",
              "    width: 32px;\n",
              "  }\n",
              "\n",
              "  .colab-df-quickchart:hover {\n",
              "    background-color: var(--hover-bg-color);\n",
              "    box-shadow: 0 1px 2px rgba(60, 64, 67, 0.3), 0 1px 3px 1px rgba(60, 64, 67, 0.15);\n",
              "    fill: var(--button-hover-fill-color);\n",
              "  }\n",
              "\n",
              "  .colab-df-quickchart-complete:disabled,\n",
              "  .colab-df-quickchart-complete:disabled:hover {\n",
              "    background-color: var(--disabled-bg-color);\n",
              "    fill: var(--disabled-fill-color);\n",
              "    box-shadow: none;\n",
              "  }\n",
              "\n",
              "  .colab-df-spinner {\n",
              "    border: 2px solid var(--fill-color);\n",
              "    border-color: transparent;\n",
              "    border-bottom-color: var(--fill-color);\n",
              "    animation:\n",
              "      spin 1s steps(1) infinite;\n",
              "  }\n",
              "\n",
              "  @keyframes spin {\n",
              "    0% {\n",
              "      border-color: transparent;\n",
              "      border-bottom-color: var(--fill-color);\n",
              "      border-left-color: var(--fill-color);\n",
              "    }\n",
              "    20% {\n",
              "      border-color: transparent;\n",
              "      border-left-color: var(--fill-color);\n",
              "      border-top-color: var(--fill-color);\n",
              "    }\n",
              "    30% {\n",
              "      border-color: transparent;\n",
              "      border-left-color: var(--fill-color);\n",
              "      border-top-color: var(--fill-color);\n",
              "      border-right-color: var(--fill-color);\n",
              "    }\n",
              "    40% {\n",
              "      border-color: transparent;\n",
              "      border-right-color: var(--fill-color);\n",
              "      border-top-color: var(--fill-color);\n",
              "    }\n",
              "    60% {\n",
              "      border-color: transparent;\n",
              "      border-right-color: var(--fill-color);\n",
              "    }\n",
              "    80% {\n",
              "      border-color: transparent;\n",
              "      border-right-color: var(--fill-color);\n",
              "      border-bottom-color: var(--fill-color);\n",
              "    }\n",
              "    90% {\n",
              "      border-color: transparent;\n",
              "      border-bottom-color: var(--fill-color);\n",
              "    }\n",
              "  }\n",
              "</style>\n",
              "\n",
              "  <script>\n",
              "    async function quickchart(key) {\n",
              "      const quickchartButtonEl =\n",
              "        document.querySelector('#' + key + ' button');\n",
              "      quickchartButtonEl.disabled = true;  // To prevent multiple clicks.\n",
              "      quickchartButtonEl.classList.add('colab-df-spinner');\n",
              "      try {\n",
              "        const charts = await google.colab.kernel.invokeFunction(\n",
              "            'suggestCharts', [key], {});\n",
              "      } catch (error) {\n",
              "        console.error('Error during call to suggestCharts:', error);\n",
              "      }\n",
              "      quickchartButtonEl.classList.remove('colab-df-spinner');\n",
              "      quickchartButtonEl.classList.add('colab-df-quickchart-complete');\n",
              "    }\n",
              "    (() => {\n",
              "      let quickchartButtonEl =\n",
              "        document.querySelector('#df-540679f0-43c8-440e-9601-82020e7f5bdb button');\n",
              "      quickchartButtonEl.style.display =\n",
              "        google.colab.kernel.accessAllowed ? 'block' : 'none';\n",
              "    })();\n",
              "  </script>\n",
              "</div>\n",
              "\n",
              "    </div>\n",
              "  </div>\n"
            ],
            "application/vnd.google.colaboratory.intrinsic+json": {
              "type": "dataframe"
            }
          },
          "metadata": {},
          "execution_count": 4
        }
      ]
    },
    {
      "cell_type": "code",
      "source": [
        "for col in original_data.columns:\n",
        "  original_data.dropna(inplace=True)"
      ],
      "metadata": {
        "id": "JfPc6_9D40U0"
      },
      "execution_count": null,
      "outputs": []
    },
    {
      "cell_type": "code",
      "source": [
        "original_data.isnull().sum() #checking again"
      ],
      "metadata": {
        "id": "18Ud4E6611D2",
        "outputId": "394fc72c-58ec-4edd-9380-5a45ab489698",
        "colab": {
          "base_uri": "https://localhost:8080/",
          "height": 774
        }
      },
      "execution_count": null,
      "outputs": [
        {
          "output_type": "execute_result",
          "data": {
            "text/plain": [
              "track_id            0\n",
              "track_name          0\n",
              "artist_name         0\n",
              "year                0\n",
              "popularity          0\n",
              "artwork_url         0\n",
              "album_name          0\n",
              "acousticness        0\n",
              "danceability        0\n",
              "duration_ms         0\n",
              "energy              0\n",
              "instrumentalness    0\n",
              "key                 0\n",
              "liveness            0\n",
              "loudness            0\n",
              "mode                0\n",
              "speechiness         0\n",
              "tempo               0\n",
              "time_signature      0\n",
              "valence             0\n",
              "track_url           0\n",
              "language            0\n",
              "dtype: int64"
            ],
            "text/html": [
              "<div>\n",
              "<style scoped>\n",
              "    .dataframe tbody tr th:only-of-type {\n",
              "        vertical-align: middle;\n",
              "    }\n",
              "\n",
              "    .dataframe tbody tr th {\n",
              "        vertical-align: top;\n",
              "    }\n",
              "\n",
              "    .dataframe thead th {\n",
              "        text-align: right;\n",
              "    }\n",
              "</style>\n",
              "<table border=\"1\" class=\"dataframe\">\n",
              "  <thead>\n",
              "    <tr style=\"text-align: right;\">\n",
              "      <th></th>\n",
              "      <th>0</th>\n",
              "    </tr>\n",
              "  </thead>\n",
              "  <tbody>\n",
              "    <tr>\n",
              "      <th>track_id</th>\n",
              "      <td>0</td>\n",
              "    </tr>\n",
              "    <tr>\n",
              "      <th>track_name</th>\n",
              "      <td>0</td>\n",
              "    </tr>\n",
              "    <tr>\n",
              "      <th>artist_name</th>\n",
              "      <td>0</td>\n",
              "    </tr>\n",
              "    <tr>\n",
              "      <th>year</th>\n",
              "      <td>0</td>\n",
              "    </tr>\n",
              "    <tr>\n",
              "      <th>popularity</th>\n",
              "      <td>0</td>\n",
              "    </tr>\n",
              "    <tr>\n",
              "      <th>artwork_url</th>\n",
              "      <td>0</td>\n",
              "    </tr>\n",
              "    <tr>\n",
              "      <th>album_name</th>\n",
              "      <td>0</td>\n",
              "    </tr>\n",
              "    <tr>\n",
              "      <th>acousticness</th>\n",
              "      <td>0</td>\n",
              "    </tr>\n",
              "    <tr>\n",
              "      <th>danceability</th>\n",
              "      <td>0</td>\n",
              "    </tr>\n",
              "    <tr>\n",
              "      <th>duration_ms</th>\n",
              "      <td>0</td>\n",
              "    </tr>\n",
              "    <tr>\n",
              "      <th>energy</th>\n",
              "      <td>0</td>\n",
              "    </tr>\n",
              "    <tr>\n",
              "      <th>instrumentalness</th>\n",
              "      <td>0</td>\n",
              "    </tr>\n",
              "    <tr>\n",
              "      <th>key</th>\n",
              "      <td>0</td>\n",
              "    </tr>\n",
              "    <tr>\n",
              "      <th>liveness</th>\n",
              "      <td>0</td>\n",
              "    </tr>\n",
              "    <tr>\n",
              "      <th>loudness</th>\n",
              "      <td>0</td>\n",
              "    </tr>\n",
              "    <tr>\n",
              "      <th>mode</th>\n",
              "      <td>0</td>\n",
              "    </tr>\n",
              "    <tr>\n",
              "      <th>speechiness</th>\n",
              "      <td>0</td>\n",
              "    </tr>\n",
              "    <tr>\n",
              "      <th>tempo</th>\n",
              "      <td>0</td>\n",
              "    </tr>\n",
              "    <tr>\n",
              "      <th>time_signature</th>\n",
              "      <td>0</td>\n",
              "    </tr>\n",
              "    <tr>\n",
              "      <th>valence</th>\n",
              "      <td>0</td>\n",
              "    </tr>\n",
              "    <tr>\n",
              "      <th>track_url</th>\n",
              "      <td>0</td>\n",
              "    </tr>\n",
              "    <tr>\n",
              "      <th>language</th>\n",
              "      <td>0</td>\n",
              "    </tr>\n",
              "  </tbody>\n",
              "</table>\n",
              "</div><br><label><b>dtype:</b> int64</label>"
            ]
          },
          "metadata": {},
          "execution_count": 6
        }
      ]
    },
    {
      "cell_type": "code",
      "source": [
        "original_data.shape"
      ],
      "metadata": {
        "colab": {
          "base_uri": "https://localhost:8080/"
        },
        "id": "2VZg58stzz2F",
        "outputId": "517d1f4c-6a74-4dda-fd03-7871d28590b2"
      },
      "execution_count": null,
      "outputs": [
        {
          "output_type": "execute_result",
          "data": {
            "text/plain": [
              "(62317, 22)"
            ]
          },
          "metadata": {},
          "execution_count": 7
        }
      ]
    },
    {
      "cell_type": "code",
      "source": [
        "#creating a seperate file that store names of all songs\n",
        "song_name=original_data['track_name']"
      ],
      "metadata": {
        "id": "j65bt7fKz2qb"
      },
      "execution_count": null,
      "outputs": []
    },
    {
      "cell_type": "code",
      "source": [
        "#function to get data of songs belonging to a particular language\n",
        "def get_language_song(data,language):\n",
        "  language_songs=original_data[original_data['language'].str.contains(language, case=False)]\n",
        "  return pd.DataFrame(language_songs)"
      ],
      "metadata": {
        "id": "DYbJO0Y20-_F"
      },
      "execution_count": null,
      "outputs": []
    },
    {
      "cell_type": "code",
      "source": [
        "#data containing only audio features\n",
        "dataframe_features=original_data.iloc[:,7:20]"
      ],
      "metadata": {
        "id": "-dUtHnKH3GwD"
      },
      "execution_count": null,
      "outputs": []
    },
    {
      "cell_type": "code",
      "source": [
        "dataframe_features.info()"
      ],
      "metadata": {
        "colab": {
          "base_uri": "https://localhost:8080/"
        },
        "id": "LuSrkhoD4XjZ",
        "outputId": "1723f15e-d53d-423e-c2e1-4d500c49add6"
      },
      "execution_count": null,
      "outputs": [
        {
          "output_type": "stream",
          "name": "stdout",
          "text": [
            "<class 'pandas.core.frame.DataFrame'>\n",
            "RangeIndex: 62317 entries, 0 to 62316\n",
            "Data columns (total 13 columns):\n",
            " #   Column            Non-Null Count  Dtype  \n",
            "---  ------            --------------  -----  \n",
            " 0   acousticness      62317 non-null  float64\n",
            " 1   danceability      62317 non-null  float64\n",
            " 2   duration_ms       62317 non-null  float64\n",
            " 3   energy            62317 non-null  float64\n",
            " 4   instrumentalness  62317 non-null  float64\n",
            " 5   key               62317 non-null  float64\n",
            " 6   liveness          62317 non-null  float64\n",
            " 7   loudness          62317 non-null  float64\n",
            " 8   mode              62317 non-null  float64\n",
            " 9   speechiness       62317 non-null  float64\n",
            " 10  tempo             62317 non-null  float64\n",
            " 11  time_signature    62317 non-null  float64\n",
            " 12  valence           62317 non-null  float64\n",
            "dtypes: float64(13)\n",
            "memory usage: 6.2 MB\n"
          ]
        }
      ]
    },
    {
      "cell_type": "code",
      "source": [
        "sc=StandardScaler()\n",
        "dataframe=sc.fit_transform(dataframe_features)  #to centre and scale the data preparing it for PCA s.t. mean is zero and standard deviation is 1"
      ],
      "metadata": {
        "id": "BI7bj2b61_bU"
      },
      "execution_count": null,
      "outputs": []
    },
    {
      "cell_type": "markdown",
      "source": [
        "<h1>KMEANS"
      ],
      "metadata": {
        "id": "Le9tn8BIAwZp"
      }
    },
    {
      "cell_type": "markdown",
      "source": [
        "**K means** is an ***unsupervised machine learning*** technique that helps us group *unlabeled* data into various clusters on the basis of their similarity.\n",
        "\n",
        "It is a ***“hard”*** clustering method. This form of grouping stipulates that a data point can exist in just one cluster.\n",
        "\n",
        "It is an ***iterative, centroid-based*** clustering algorithm that partitions a dataset into similar groups based on the distance between their centroids. The centroid, or cluster center, is either the mean or median of all the points within the cluster depending on the characteristics of the data."
      ],
      "metadata": {
        "id": "MacfO44WA0NW"
      }
    },
    {
      "cell_type": "markdown",
      "source": [
        "\n",
        "\n",
        "---\n",
        "\n"
      ],
      "metadata": {
        "id": "uPrWYxQvFJTS"
      }
    },
    {
      "cell_type": "markdown",
      "source": [
        "**<h3>Importing all important libraries**"
      ],
      "metadata": {
        "id": "BIcGBlGHHGny"
      }
    },
    {
      "cell_type": "code",
      "source": [
        "import numpy as np\n",
        "import pandas as pd #panel data that helps manipulate data\n",
        "import matplotlib.pyplot as plt\n",
        "from sklearn.model_selection import train_test_split #to train test and split just in case\n",
        "from sklearn.decomposition import PCA #Principal Component Analysis\n",
        "from sklearn.preprocessing import StandardScaler #to scale and normalise data"
      ],
      "metadata": {
        "id": "b_QGxuCVHFz_"
      },
      "execution_count": null,
      "outputs": []
    },
    {
      "cell_type": "markdown",
      "source": [
        "**Importing Data**"
      ],
      "metadata": {
        "id": "ts_5b1OqLzPC"
      }
    },
    {
      "cell_type": "code",
      "source": [
        "def get_language_song(original_data, data_scaled, language=\"hindi\"):\n",
        "    # Get indices of Hindi songs\n",
        "    hindi_song_indices = original_data[original_data['language'].str.contains(language, case=False, na=False)].index\n",
        "\n",
        "    # Filter scaled data to keep only Hindi songs\n",
        "    hindi_songs_scaled = data_scaled[hindi_song_indices]\n",
        "\n",
        "    return hindi_songs_scaled\n"
      ],
      "metadata": {
        "id": "jZKTLgCALyzi"
      },
      "execution_count": null,
      "outputs": []
    },
    {
      "cell_type": "code",
      "source": [
        "songs_scaled = get_language_song(original_data,dataframe)\n",
        "\n",
        "# Check the shape of the filtered dataset\n",
        "print(songs_scaled.shape)  # (number_of_hindi_songs, num_features)\n",
        "print(songs_scaled)"
      ],
      "metadata": {
        "id": "eq5b9k45a68h",
        "outputId": "99d81404-ee1f-4ca1-fb5a-3aef0ded74d3",
        "colab": {
          "base_uri": "https://localhost:8080/"
        }
      },
      "execution_count": null,
      "outputs": [
        {
          "output_type": "stream",
          "name": "stdout",
          "text": [
            "(5740, 13)\n",
            "[[-0.26156992  0.46825969 -0.50199583 ... -0.41741733  0.2843186\n",
            "  -0.16702689]\n",
            " [-1.06701972  0.38770424 -0.10430214 ... -0.87393615  0.2843186\n",
            "  -0.0348441 ]\n",
            " [-1.14937649  0.23733406 -1.13570041 ... -0.87428691  0.2843186\n",
            "  -0.45027574]\n",
            " ...\n",
            " [-0.89092691  0.01177879  0.05221249 ...  1.47667099  0.2843186\n",
            "  -0.15947359]\n",
            " [ 1.19421544  0.11918606 -0.41835794 ... -0.97769202  0.2843186\n",
            "   0.18797833]\n",
            " [-1.10134828 -0.48229464 -0.63876692 ... -0.45551026  0.2843186\n",
            "  -1.00922014]]\n"
          ]
        }
      ]
    },
    {
      "cell_type": "markdown",
      "source": [
        "**<H3>PCA**"
      ],
      "metadata": {
        "id": "Shn1Xu4zOFtt"
      }
    },
    {
      "cell_type": "markdown",
      "source": [
        "In SKLEARN,\n",
        "Variation is calculated as:\n",
        "\n",
        "(measurement-mean)^2/no. of samples\n",
        "\n",
        "Below is the part where we do all the meansurements"
      ],
      "metadata": {
        "id": "RPEv2nvpRfx9"
      }
    },
    {
      "cell_type": "code",
      "source": [
        "pca = PCA(n_components=2)  #reducing the number of components to 2 since it is easier to observe in terms of clusters\n",
        "data_pca = pca.fit_transform(songs_scaled) #where we do all the pca math of loading scores and variations each pca accounts for(basically co-ordinates)\n",
        "#we generate scores for a pca graph and variations"
      ],
      "metadata": {
        "id": "qtY7G8NoIGur"
      },
      "execution_count": null,
      "outputs": []
    },
    {
      "cell_type": "markdown",
      "source": [
        "**<h3>Optimising K means</h3>**\n",
        "\n",
        "1. **Properly selecting the initial centroids**\n",
        "\n",
        " K Means++ is a more advanced method to initialise centroids as starting them out as random is a always a bad choice.\n"
      ],
      "metadata": {
        "id": "Ya4vW0KgFfbZ"
      }
    },
    {
      "cell_type": "code",
      "source": [
        "#K-Means++ for initial centroids\n",
        "def kmeans_plus_plus(X, k): #gets data and k's value\n",
        "    \"\"\"Initialize centroids using K-Means++ method.\"\"\"\n",
        "    np.random.seed(42)  # For reproducibility\n",
        "    n_samples = X.shape[0]\n",
        "\n",
        "    #Randomly selecting the first centroid\n",
        "    centroids = [X[np.random.randint(n_samples)]]\n",
        "\n",
        "    for i in range(1, k):\n",
        "        #Computing squared distances to the nearest centroid\n",
        "        distances = np.array([min(np.linalg.norm(x - c) ** 2 for c in centroids) for x in X])\n",
        "\n",
        "        #Choosing next centroid on the basis of probability proportional to distance²\n",
        "        probabilities = distances / distances.sum()\n",
        "        new_centroid_index = np.random.choice(n_samples, p=probabilities)\n",
        "\n",
        "        # Adding the new centroid\n",
        "        centroids.append(X[new_centroid_index])\n",
        "\n",
        "    return np.array(centroids)"
      ],
      "metadata": {
        "id": "SYqYiBtPAv9T"
      },
      "execution_count": null,
      "outputs": []
    },
    {
      "cell_type": "code",
      "execution_count": null,
      "metadata": {
        "id": "CFKx0mVCAY_e"
      },
      "outputs": [],
      "source": [
        "class KMeansFromScratch:\n",
        "    def __init__(self, k=None, max_k=10, max_iters=100, tol=1e-4, auto_k=True):\n",
        "        \"\"\"\n",
        "        k: Number of clusters (if None, auto-detect using Elbow method)\n",
        "        max_k: Max clusters for Elbow method (used if auto_k=True)\n",
        "        max_iters: Maximum iterations for convergence\n",
        "        tol: Tolerance to stop iterations early\n",
        "        auto_k: If True, automatically find the best k using Elbow method\n",
        "        \"\"\"\n",
        "        self.k = k\n",
        "        self.max_iters = max_iters\n",
        "        self.tol = tol\n",
        "        self.auto_k = auto_k\n",
        "        self.max_k = max_k\n",
        "\n",
        "    def fit(self, X):\n",
        "\n",
        "        if self.auto_k and self.k is None:\n",
        "            self.k = self.find_optimal_k(X)  # Find best k before clustering\n",
        "        # Using K-Means++ for better initialisation\n",
        "        self.centroids = kmeans_plus_plus(X, self.k)\n",
        "\n",
        "        for i in range(self.max_iters):\n",
        "            #Assigning points to nearest centroid, this is where clusters are forming\n",
        "            #np.argmin returns the index of the closest centroid\n",
        "            self.labels = np.array([np.argmin([np.linalg.norm(x - c) for c in self.centroids]) for x in X]) #euclidean distance is being considered\n",
        "\n",
        "            #Computing new centroids\n",
        "            '''\n",
        "            For each cluster j, calculating the mean of all points assigned to it.\n",
        "\n",
        "            This updates the centroid locations based on the new cluster assignments.\n",
        "            for eg.\n",
        "            cluster 1: (1,2) and (2,4) new mean will be (1.5,3) New Centroid-1\n",
        "            cluster 2: (0,2) and (1,1.5) new mean will be (0.5,1.75) New Centroid-2\n",
        "            '''\n",
        "            new_centroids = np.array([X[self.labels == j].mean(axis=0) for j in range(self.k)])\n",
        "\n",
        "            #Checking for convergence\n",
        "            '''\n",
        "            If centroids don’t change much (tol = small threshold),we stop iterating.\n",
        "\n",
        "            This ensures that the algorithm stops when clusters are stable.\n",
        "            '''\n",
        "            if np.all(np.abs(new_centroids - self.centroids) < self.tol):\n",
        "                break\n",
        "\n",
        "            self.centroids = new_centroids  # Update centroids and the loop continues\n",
        "\n",
        "    def predict(self, X):\n",
        "        return np.array([np.argmin([np.linalg.norm(x - c) for c in self.centroids]) for x in X])\n",
        "\n",
        "    def find_optimal_k(self, X):\n",
        "        \"\"\" Automatically find the best k using the Elbow Method & Knee Point \"\"\"\n",
        "        wcss = []\n",
        "        for k in range(1, self.max_k + 1):\n",
        "            kmeans = KMeansFromScratch(k=k, auto_k=False)  # Run K-Means manually\n",
        "            kmeans.fit(X)\n",
        "            wcss.append(sum(np.linalg.norm(X[kmeans.labels == j] - kmeans.centroids[j]) ** 2 for j in range(k)))\n",
        "\n",
        "        return self.knee_locator(range(1, self.max_k + 1), wcss)\n",
        "\n",
        "    @staticmethod\n",
        "    def knee_locator(x, y):\n",
        "        \"\"\" Find the 'knee' point (elbow) in the WCSS graph \"\"\"\n",
        "        x, y = np.array(x), np.array(y)\n",
        "        # Compute second derivative (curvature)\n",
        "        diff = np.gradient(y, edge_order=2)\n",
        "        elbow_index = np.argmin(diff) + 1  # Adding 1 to match k index\n",
        "        return x[elbow_index]\n",
        "\n",
        "    def plot_elbow(self, X):\n",
        "        \"\"\" Plot WCSS vs. k to visualize the Elbow Method \"\"\"\n",
        "        wcss = []\n",
        "        for k in range(1, self.max_k + 1):\n",
        "            kmeans = KMeansFromScratch(k=k, auto_k=False)\n",
        "            kmeans.fit(X)\n",
        "            wcss.append(sum(np.linalg.norm(X[kmeans.labels == j] - kmeans.centroids[j]) ** 2 for j in range(k)))\n",
        "\n",
        "        best_k = self.knee_locator(range(1, self.max_k + 1), wcss)\n",
        "\n",
        "        plt.figure(figsize=(8, 5))\n",
        "        plt.plot(range(1, self.max_k + 1), wcss, marker='o', linestyle='--', color='b')\n",
        "        plt.xlabel('Number of Clusters (k)')\n",
        "        plt.ylabel('WCSS (Within-Cluster Sum of Squares)')\n",
        "        plt.title('Elbow Method for Optimal K')\n",
        "        plt.axvline(x=best_k, linestyle='--', color='r', label=f'Optimal K = {best_k}')\n",
        "        plt.legend()\n",
        "        plt.show()\n",
        "        print(f\"Optimal K found: {best_k}\")\n"
      ]
    },
    {
      "cell_type": "code",
      "source": [
        "# Step 1: Create the model (auto-selecting optimal k using elbow method)\n",
        "model = KMeansFromScratch(auto_k=True, max_k=10)\n",
        "\n",
        "# Step 2: (Optional) Visualize elbow plot\n",
        "model.plot_elbow(songs_scaled)\n",
        "\n",
        "# Step 3: Fit the model to the scaled Hindi song data\n",
        "model.fit(songs_scaled)\n",
        "\n",
        "# Step 4: Get labels and centroids\n",
        "hindi_labels = model.labels\n",
        "hindi_centroids = model.centroids\n",
        "\n",
        "# Print sample cluster assignments\n",
        "print(\"Sample Cluster Labels:\", hindi_labels[:10])\n",
        "print(\"Centroids Shape:\", hindi_centroids.shape)\n"
      ],
      "metadata": {
        "id": "GP8hvEa5bhVs",
        "outputId": "21d2a9f0-e960-4b5d-a62a-9c96568c538b",
        "colab": {
          "base_uri": "https://localhost:8080/",
          "height": 541
        }
      },
      "execution_count": null,
      "outputs": [
        {
          "output_type": "display_data",
          "data": {
            "text/plain": [
              "<Figure size 800x500 with 1 Axes>"
            ],
            "image/png": "[encoded data removed]"
          },
          "metadata": {}
        },
        {
          "output_type": "stream",
          "name": "stdout",
          "text": [
            "Optimal K found: 2\n",
            "Sample Cluster Labels: [0 0 0 1 0 0 1 0 0 1]\n",
            "Centroids Shape: (2, 13)\n"
          ]
        }
      ]
    },
    {
      "cell_type": "markdown",
      "source": [
        "**<h1>Song Recommender**"
      ],
      "metadata": {
        "id": "CVTARI2ZQEWA"
      }
    },
    {
      "cell_type": "code",
      "source": [
        "from sklearn.metrics.pairwise import cosine_similarity"
      ],
      "metadata": {
        "id": "Ri4mPYhyQZdR"
      },
      "execution_count": null,
      "outputs": []
    },
    {
      "cell_type": "code",
      "source": [
        "import re"
      ],
      "metadata": {
        "id": "wiBFQp1SJMZq"
      },
      "execution_count": null,
      "outputs": []
    },
    {
      "cell_type": "code",
      "source": [
        "class SongRecommender:\n",
        "    def __init__(self, data, song_names, kmeansFromScratch):\n",
        "        self.data = data\n",
        "        self.song_names = song_names\n",
        "        self.kmeans = kmeansFromScratch\n",
        "        self.labels = kmeansFromScratch.labels\n",
        "\n",
        "    def _normalize_name(self, name):\n",
        "        # Lowercase, strip, remove content in parentheses\n",
        "        name = name.lower().strip()\n",
        "        name = re.sub(r'\\(.*?\\)', '', name).strip()\n",
        "        return name\n",
        "\n",
        "    def recommend(self, input_song_vector, input_song_name=None, n=7):\n",
        "        input_cluster = np.argmin([\n",
        "            np.linalg.norm(input_song_vector - c)\n",
        "            for c in self.kmeans.centroids\n",
        "        ])\n",
        "        print(f\"🎯 Input song belongs to cluster: {input_cluster}\")\n",
        "\n",
        "        cluster_indices = np.where(self.labels == input_cluster)[0]\n",
        "        cluster_songs = self.data[cluster_indices]\n",
        "\n",
        "        similarities = cosine_similarity([input_song_vector], cluster_songs)[0]\n",
        "        sorted_indices = np.argsort(similarities)[::-1]\n",
        "\n",
        "        top_n_indices = []\n",
        "        input_name_norm = self._normalize_name(input_song_name) if input_song_name else \"\"\n",
        "\n",
        "        for i in sorted_indices:\n",
        "            idx = cluster_indices[i]\n",
        "            name = self.song_names[idx]\n",
        "            name_norm = self._normalize_name(name)\n",
        "\n",
        "            if input_song_name and name_norm == input_name_norm:\n",
        "                continue  # Skip similar name\n",
        "\n",
        "            top_n_indices.append(idx)\n",
        "            if len(top_n_indices) == n:\n",
        "                break\n",
        "\n",
        "        print(f\"\\n🎵 Top {n} recommendations:\")\n",
        "        recommendations = []\n",
        "\n",
        "        for idx in top_n_indices:\n",
        "            original_idx = hindi_indices[idx]\n",
        "            name = self.song_names[idx]\n",
        "            artist = original_data.loc[original_idx, 'artist_name']\n",
        "            track_url = original_data.loc[original_idx, 'track_url']\n",
        "            artwork_url = original_data.loc[original_idx, 'artwork_url']\n",
        "\n",
        "            sim_score = cosine_similarity([input_song_vector], [self.data[idx]])[0][0]\n",
        "\n",
        "            print(f\"- {name} by {artist} (Similarity: {sim_score:.4f})\")\n",
        "            print(f\"  🎧 Track URL: {track_url}\")\n",
        "            print(f\"  🖼️ Artwork URL: {artwork_url}\\n\")\n",
        "\n",
        "            recommendations.append({\n",
        "                \"name\": name,\n",
        "                \"artist\": artist,\n",
        "                \"similarity\": sim_score,\n",
        "                \"track_url\": track_url,\n",
        "                \"artwork_url\": artwork_url\n",
        "            })\n",
        "\n",
        "        return recommendations\n"
      ],
      "metadata": {
        "id": "3wCZVI19JQFj"
      },
      "execution_count": null,
      "outputs": []
    },
    {
      "cell_type": "code",
      "source": [
        "# Get indices of Hindi songs in original_data\n",
        "hindi_indices = original_data[original_data['language'].str.contains(\"hindi\", case=False, na=False)].index\n",
        "\n",
        "# Filter songs_scaled and song_names\n",
        "songs_scaled = get_language_song(original_data, dataframe) # Our scaled Hindi features\n",
        "data_pca = pca.fit_transform(songs_scaled)\n",
        "song_names_hindi = [song_names[i] for i in hindi_indices]  # Keep song names aligned\n"
      ],
      "metadata": {
        "id": "55Wt4ebCGI1F"
      },
      "execution_count": null,
      "outputs": []
    },
    {
      "cell_type": "code",
      "source": [
        "# Match song in filtered Hindi names\n",
        "user_input = input(\"Enter a song name: \").strip().lower()\n",
        "matching_indices = [i for i, name in enumerate(song_names_hindi) if name.strip().lower() == user_input]\n",
        "\n",
        "if not matching_indices:\n",
        "    print(\"Song not found in Hindi songs.\")\n",
        "else:\n",
        "    input_index = matching_indices[0]\n",
        "    input_song_vector = songs_scaled[input_index]  # <- Use original scaled vector\n",
        "\n",
        "    # Recommender should also use songs_scaled (not data_pca)\n",
        "    recommender = SongRecommender(songs_scaled, song_names_hindi, model)\n",
        "    recommender.recommend(input_song_vector, song_names_hindi[input_index], n=7)"
      ],
      "metadata": {
        "id": "W9O6ldgcDMPR",
        "outputId": "10a9e506-e44f-4395-aa83-6f8ac26b2de8",
        "colab": {
          "base_uri": "https://localhost:8080/"
        }
      },
      "execution_count": null,
      "outputs": [
        {
          "output_type": "stream",
          "name": "stdout",
          "text": [
            "Enter a song name: kesariya\n",
            "🎯 Input song belongs to cluster: 1\n",
            "\n",
            "🎵 Top 7 recommendations:\n",
            "- Theethiriyaai by Pritam, Sid Sriram (Similarity: 0.9801)\n",
            "  🎧 Track URL: https://open.spotify.com/track/2untnNHDMv9CNnt6l3Dfem\n",
            "  🖼️ Artwork URL: https://i.scdn.co/image/ab67616d0000b2730b94c4ed9918da64cad67573\n",
            "\n",
            "- Theethiriyaai (From \"Brahmastra (Tamil)\") by Pritam, Sid Sriram (Similarity: 0.9801)\n",
            "  🎧 Track URL: https://open.spotify.com/track/5XbHpOBN1vTU3hN1YzLqHL\n",
            "  🖼️ Artwork URL: https://i.scdn.co/image/ab67616d0000b2736fb6977192c1051bb5a3bf5b\n",
            "\n",
            "- Theethiriyaai (From \"Brahmastra (Tamil)\") by Pritam, Sid Sriram (Similarity: 0.9690)\n",
            "  🎧 Track URL: https://open.spotify.com/track/1FD4U7MUxlqloZNQ0fTa0p\n",
            "  🖼️ Artwork URL: https://i.scdn.co/image/ab67616d0000b273917f3e2a0c33a18803754368\n",
            "\n",
            "- Sun Bhi Le by Arijit Singh, Vishal Mishra (Similarity: 0.9653)\n",
            "  🎧 Track URL: https://open.spotify.com/track/220phBEtdoin5rMiww9h9l\n",
            "  🖼️ Artwork URL: https://i.scdn.co/image/ab67616d0000b273cd8b7f137a1906a0c81d0f4d\n",
            "\n",
            "- Sun Bhi Le (From \"Ittu Si Baat\") by Arijit Singh, Vishal Mishra (Similarity: 0.9653)\n",
            "  🎧 Track URL: https://open.spotify.com/track/59vvMsB3ku27QTfYcgrsV5\n",
            "  🖼️ Artwork URL: https://i.scdn.co/image/ab67616d0000b2730d22f7fa17661aba73e1a0b1\n",
            "\n",
            "- Sun Bhi Le by Arijit Singh, Vishal Mishra (Similarity: 0.9653)\n",
            "  🎧 Track URL: https://open.spotify.com/track/0sLlqKeFatWtOBmBKd1Xyn\n",
            "  🖼️ Artwork URL: https://i.scdn.co/image/ab67616d0000b2737fdffee7474fbba57e47b285\n",
            "\n",
            "- Daak Ticket by Mohit Chauhan, Javed Bashir, Rochak Kohli (Similarity: 0.9461)\n",
            "  🎧 Track URL: https://open.spotify.com/track/04mAPnfQp4QP2rRmxeMMbi\n",
            "  🖼️ Artwork URL: https://i.scdn.co/image/ab67616d0000b273ec383abbb6d9e9a093ca2da9\n",
            "\n"
          ]
        }
      ]
    },
    {
      "cell_type": "code",
      "source": [
        "song_names = original_data[\"track_name\"].tolist()\n"
      ],
      "metadata": {
        "id": "SH0hGHecSEfY"
      },
      "execution_count": null,
      "outputs": []
    },
    {
      "cell_type": "markdown",
      "source": [
        "2. **Optimum number of clusters improves the accuracy**\n",
        "\n",
        " It measures the euclidean distance between each data point and its cluster center and chooses the number of clusters based on where change in “within cluster sum of squares” (WCSS) levels off. This value represents the total variance within each cluster that gets plotted against the number of clusters. ***Best K is where the curve forms an elbow (sudden drop, then flattening).***"
      ],
      "metadata": {
        "id": "3phEzZt-YQMK"
      }
    },
    {
      "cell_type": "code",
      "source": [],
      "metadata": {
        "id": "iUWfaUDTYRwq"
      },
      "execution_count": null,
      "outputs": []
    },
    {
      "cell_type": "markdown",
      "source": [
        "\n",
        "\n",
        "---\n",
        "\n"
      ],
      "metadata": {
        "id": "hDgUsaiLSyZw"
      }
    },
    {
      "cell_type": "markdown",
      "source": [
        " **<h1> Cluster Evaluation Metrics </h1>**\n",
        "\n",
        "1. All data points within a cluster should be similar.\n",
        "\n",
        "2. Clusters should be distinct from each other.\n",
        "\n",
        "The goal of the k-means clustering algorithm is to minimize the sum of squared errors (SSE)"
      ],
      "metadata": {
        "id": "UMqNuFRta4CE"
      }
    },
    {
      "cell_type": "markdown",
      "source": [
        "**<h3>Inertia</h3>**\n",
        "\n",
        "Inertia is calculated by measuring the distance between a datapoint and its centroid, squaring the distance and summing those squares for each data point in the cluster. The sum or inertial value is the intracluster distance. The lower the sum the better because it means that the datapoints within the cluster are compact or more similar."
      ],
      "metadata": {
        "id": "E1aN711Va6LK"
      }
    },
    {
      "cell_type": "code",
      "source": [],
      "metadata": {
        "id": "IV4eGalYbEFk"
      },
      "execution_count": null,
      "outputs": []
    },
    {
      "cell_type": "markdown",
      "source": [
        "**<h3>The Dunn index</h3>**\n",
        "\n",
        "The second property is measured with the Dunn index. The Dunn index represents the relationship between the minimum intercluster distance and the maximum intracluster distance. Clusters with a high intercluster distance indicate better quality because it means that the clusters are as different from each other as possible."
      ],
      "metadata": {
        "id": "lSePdDZPbCoL"
      }
    },
    {
      "cell_type": "code",
      "source": [],
      "metadata": {
        "id": "KB-B69M-bDpN"
      },
      "execution_count": null,
      "outputs": []
    },
    {
      "cell_type": "markdown",
      "source": [
        "\n",
        "\n",
        "---\n",
        "\n"
      ],
      "metadata": {
        "id": "5cDjIFXva4Wm"
      }
    },
    {
      "cell_type": "markdown",
      "source": [
        "<h3>Sources:\n",
        "\n",
        "\n",
        "1.   https://www.ibm.com/think/topics/k-means-clustering\n",
        "2.   List item\n",
        "3.\n",
        "\n"
      ],
      "metadata": {
        "id": "A1NRobNuErDY"
      }
    }
  ]
}
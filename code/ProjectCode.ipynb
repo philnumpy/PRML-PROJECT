{
  "nbformat": 4,
  "nbformat_minor": 0,
  "metadata": {
    "colab": {
      "provenance": [],
      "gpuType": "T4",
      "include_colab_link": true
    },
    "kernelspec": {
      "name": "python3",
      "display_name": "Python 3"
    },
    "language_info": {
      "name": "python"
    },
    "accelerator": "GPU"
  },
  "cells": [
    {
      "cell_type": "markdown",
      "metadata": {
        "id": "view-in-github",
        "colab_type": "text"
      },
      "source": [
        "<a href=\"https://colab.research.google.com/github/philnumpy/PRML-PROJECT/blob/main/code/ProjectCode.ipynb\" target=\"_parent\"><img src=\"https://colab.research.google.com/assets/colab-badge.svg\" alt=\"Open In Colab\"/></a>"
      ]
    },
    {
      "cell_type": "code",
      "execution_count": 1,
      "metadata": {
        "id": "e5_8OP_hzZoA"
      },
      "outputs": [],
      "source": [
        "import pandas as pd #panel data that helps manipulate data\n",
        "import numpy as np\n",
        "from sklearn.preprocessing import StandardScaler#to scale and normalise data"
      ]
    },
    {
      "cell_type": "code",
      "source": [
        "#loading the original dataset\n",
        "original_data=pd.read_csv('/content/spotify_tracks.csv')"
      ],
      "metadata": {
        "id": "I4-6WRwmzh_z"
      },
      "execution_count": 2,
      "outputs": []
    },
    {
      "cell_type": "code",
      "source": [
        "#getting data info to detect any null or duplicate values\n",
        "original_data.info()"
      ],
      "metadata": {
        "colab": {
          "base_uri": "https://localhost:8080/"
        },
        "id": "uqZGm6uPzuXD",
        "outputId": "4587bdbe-46c8-4421-c69f-9f952c2c9e17"
      },
      "execution_count": 3,
      "outputs": [
        {
          "output_type": "stream",
          "name": "stdout",
          "text": [
            "<class 'pandas.core.frame.DataFrame'>\n",
            "RangeIndex: 29521 entries, 0 to 29520\n",
            "Data columns (total 22 columns):\n",
            " #   Column            Non-Null Count  Dtype  \n",
            "---  ------            --------------  -----  \n",
            " 0   track_id          29521 non-null  object \n",
            " 1   track_name        29521 non-null  object \n",
            " 2   artist_name       29521 non-null  object \n",
            " 3   year              29521 non-null  int64  \n",
            " 4   popularity        29521 non-null  int64  \n",
            " 5   artwork_url       29521 non-null  object \n",
            " 6   album_name        29521 non-null  object \n",
            " 7   acousticness      29521 non-null  float64\n",
            " 8   danceability      29521 non-null  float64\n",
            " 9   duration_ms       29521 non-null  float64\n",
            " 10  energy            29521 non-null  float64\n",
            " 11  instrumentalness  29520 non-null  float64\n",
            " 12  key               29520 non-null  float64\n",
            " 13  liveness          29520 non-null  float64\n",
            " 14  loudness          29520 non-null  float64\n",
            " 15  mode              29520 non-null  float64\n",
            " 16  speechiness       29520 non-null  float64\n",
            " 17  tempo             29520 non-null  float64\n",
            " 18  time_signature    29520 non-null  float64\n",
            " 19  valence           29520 non-null  float64\n",
            " 20  track_url         29520 non-null  object \n",
            " 21  language          29520 non-null  object \n",
            "dtypes: float64(13), int64(2), object(7)\n",
            "memory usage: 5.0+ MB\n"
          ]
        }
      ]
    },
    {
      "cell_type": "code",
      "source": [
        "#Removing Telugu and Malayalam songs since very low in number\n",
        "original_data = original_data[original_data['language'] != 'Telugu'].reset_index(drop=True)\n",
        "original_data = original_data[original_data['language'] != 'Malayalam'].reset_index(drop=True)"
      ],
      "metadata": {
        "id": "PMZ1t9nXgDHs"
      },
      "execution_count": 4,
      "outputs": []
    },
    {
      "cell_type": "code",
      "source": [
        "#dropping any duplicate values\n",
        "original_data.drop_duplicates()"
      ],
      "metadata": {
        "colab": {
          "base_uri": "https://localhost:8080/",
          "height": 877
        },
        "collapsed": true,
        "id": "TZC8AiS6zwO9",
        "outputId": "6b8ed68a-76f0-445b-a75a-ecd6f08caa1e"
      },
      "execution_count": 5,
      "outputs": [
        {
          "output_type": "execute_result",
          "data": {
            "text/plain": [
              "                     track_id                                  track_name  \\\n",
              "0      2r0ROhr7pRN4MXDMT1fEmd                  Leo Das Entry (From \"Leo\")   \n",
              "1      4I38e6Dg52a2o2a8i5Q5PW                                AAO KILLELLE   \n",
              "2      59NoiRhnom3lTeRFaBzOev      Mayakiriye Sirikiriye - Orchestral EDM   \n",
              "3      5uUqRQd385pvLxC8JX3tXn    Scene Ah Scene Ah - Experimental EDM Mix   \n",
              "4      1KaBRg2xgNeCljmyxBH1mo  Gundellonaa X I Am A Disco Dancer - Mashup   \n",
              "...                       ...                                         ...   \n",
              "28946  7dDY45rR3idfeCypFDrk0G                                One and Only   \n",
              "28947  3JdYRIhtpQd56Dj3rhMRoC                                      Mortal   \n",
              "28948  1ITbrYluZnnVIUXE4PAq2s                                     BLOSSOM   \n",
              "28949  2uXvTCV3s5LN9mdDW7hAkn                       Keep Swimmin' Through   \n",
              "28950  3v8hC61VqQ95xwBiLg1JPg            Sweet Venom (feat. Bella Poarch)   \n",
              "\n",
              "                                             artist_name  year  popularity  \\\n",
              "0                                    Anirudh Ravichander  2024          59   \n",
              "1      Anirudh Ravichander, Pravin Mani, Vaishali Sri...  2024          47   \n",
              "2               Anirudh Ravichander, Anivee, Alvin Bruno  2024          35   \n",
              "3      Anirudh Ravichander, Bharath Sankar, Kabilan, ...  2024          24   \n",
              "4      Anirudh Ravichander, Benny Dayal, Leon James, ...  2024          22   \n",
              "...                                                  ...   ...         ...   \n",
              "28946                                            ENHYPEN  2023          62   \n",
              "28947                                            ENHYPEN  2023          60   \n",
              "28948                                            ENHYPEN  2023          61   \n",
              "28949  ENHYPEN, The Cast of Baby Shark's Big Movie, P...  2023          55   \n",
              "28950                              ENHYPEN, Bella Poarch  2023          57   \n",
              "\n",
              "                                             artwork_url  \\\n",
              "0      https://i.scdn.co/image/ab67616d0000b273ce9c65...   \n",
              "1      https://i.scdn.co/image/ab67616d0000b273be1b03...   \n",
              "2      https://i.scdn.co/image/ab67616d0000b27334a1dd...   \n",
              "3      https://i.scdn.co/image/ab67616d0000b27332e623...   \n",
              "4      https://i.scdn.co/image/ab67616d0000b2735a59b6...   \n",
              "...                                                  ...   \n",
              "28946  https://i.scdn.co/image/ab67616d0000b273379ddd...   \n",
              "28947  https://i.scdn.co/image/ab67616d0000b273d364c1...   \n",
              "28948  https://i.scdn.co/image/ab67616d0000b2737789c0...   \n",
              "28949  https://i.scdn.co/image/ab67616d0000b27343b253...   \n",
              "28950  https://i.scdn.co/image/ab67616d0000b273d364c1...   \n",
              "\n",
              "                                       album_name  acousticness  danceability  \\\n",
              "0                      Leo Das Entry (From \"Leo\")        0.0241         0.753   \n",
              "1                                    AAO KILLELLE        0.0851         0.780   \n",
              "2          Mayakiriye Sirikiriye (Orchestral EDM)        0.0311         0.457   \n",
              "3        Scene Ah Scene Ah (Experimental EDM Mix)        0.2270         0.718   \n",
              "4      Gundellonaa X I Am a Disco Dancer (Mashup)        0.0153         0.689   \n",
              "...                                           ...           ...           ...   \n",
              "28946                                One and Only        0.4040         0.707   \n",
              "28947                                ORANGE BLOOD        0.5890         0.609   \n",
              "28948                                     BLOSSOM        0.4270         0.599   \n",
              "28949                       Keep Swimmin' Through        0.0487         0.684   \n",
              "28950                                ORANGE BLOOD        0.0549         0.869   \n",
              "\n",
              "       duration_ms  ...   key  liveness  loudness  mode  speechiness    tempo  \\\n",
              "0          97297.0  ...   8.0    0.1000    -5.994   0.0       0.1030  110.997   \n",
              "1         207369.0  ...  10.0    0.0951    -5.674   0.0       0.0952  164.995   \n",
              "2          82551.0  ...   2.0    0.0831    -8.937   0.0       0.1530  169.996   \n",
              "3         115831.0  ...   7.0    0.1240   -11.104   1.0       0.4450  169.996   \n",
              "4         129621.0  ...   7.0    0.3450    -9.637   1.0       0.1580  128.961   \n",
              "...            ...  ...   ...       ...       ...   ...          ...      ...   \n",
              "28946     166387.0  ...   7.0    0.0916    -4.121   1.0       0.0480  137.919   \n",
              "28947     227769.0  ...   7.0    0.1240    -7.843   1.0       0.0844  140.866   \n",
              "28948     236332.0  ...   1.0    0.2510    -4.587   0.0       0.0398  139.857   \n",
              "28949      95300.0  ...  11.0    0.7960    -4.777   0.0       0.0670  115.950   \n",
              "28950     148753.0  ...   NaN       NaN       NaN   NaN          NaN      NaN   \n",
              "\n",
              "       time_signature  valence  \\\n",
              "0                 4.0    0.459   \n",
              "1                 3.0    0.821   \n",
              "2                 4.0    0.598   \n",
              "3                 4.0    0.362   \n",
              "4                 4.0    0.593   \n",
              "...               ...      ...   \n",
              "28946             4.0    0.936   \n",
              "28947             4.0    0.341   \n",
              "28948             4.0    0.525   \n",
              "28949             4.0    0.939   \n",
              "28950             NaN      NaN   \n",
              "\n",
              "                                               track_url  language  \n",
              "0      https://open.spotify.com/track/2r0ROhr7pRN4MXD...     Tamil  \n",
              "1      https://open.spotify.com/track/4I38e6Dg52a2o2a...     Tamil  \n",
              "2      https://open.spotify.com/track/59NoiRhnom3lTeR...     Tamil  \n",
              "3      https://open.spotify.com/track/5uUqRQd385pvLxC...     Tamil  \n",
              "4      https://open.spotify.com/track/1KaBRg2xgNeCljm...     Tamil  \n",
              "...                                                  ...       ...  \n",
              "28946  https://open.spotify.com/track/7dDY45rR3idfeCy...    Korean  \n",
              "28947  https://open.spotify.com/track/3JdYRIhtpQd56Dj...    Korean  \n",
              "28948  https://open.spotify.com/track/1ITbrYluZnnVIUX...    Korean  \n",
              "28949  https://open.spotify.com/track/2uXvTCV3s5LN9md...    Korean  \n",
              "28950                                                NaN       NaN  \n",
              "\n",
              "[28876 rows x 22 columns]"
            ],
            "text/html": [
              "\n",
              "  <div id=\"df-313944bf-504e-4d79-adee-516336c58553\" class=\"colab-df-container\">\n",
              "    <div>\n",
              "<style scoped>\n",
              "    .dataframe tbody tr th:only-of-type {\n",
              "        vertical-align: middle;\n",
              "    }\n",
              "\n",
              "    .dataframe tbody tr th {\n",
              "        vertical-align: top;\n",
              "    }\n",
              "\n",
              "    .dataframe thead th {\n",
              "        text-align: right;\n",
              "    }\n",
              "</style>\n",
              "<table border=\"1\" class=\"dataframe\">\n",
              "  <thead>\n",
              "    <tr style=\"text-align: right;\">\n",
              "      <th></th>\n",
              "      <th>track_id</th>\n",
              "      <th>track_name</th>\n",
              "      <th>artist_name</th>\n",
              "      <th>year</th>\n",
              "      <th>popularity</th>\n",
              "      <th>artwork_url</th>\n",
              "      <th>album_name</th>\n",
              "      <th>acousticness</th>\n",
              "      <th>danceability</th>\n",
              "      <th>duration_ms</th>\n",
              "      <th>...</th>\n",
              "      <th>key</th>\n",
              "      <th>liveness</th>\n",
              "      <th>loudness</th>\n",
              "      <th>mode</th>\n",
              "      <th>speechiness</th>\n",
              "      <th>tempo</th>\n",
              "      <th>time_signature</th>\n",
              "      <th>valence</th>\n",
              "      <th>track_url</th>\n",
              "      <th>language</th>\n",
              "    </tr>\n",
              "  </thead>\n",
              "  <tbody>\n",
              "    <tr>\n",
              "      <th>0</th>\n",
              "      <td>2r0ROhr7pRN4MXDMT1fEmd</td>\n",
              "      <td>Leo Das Entry (From \"Leo\")</td>\n",
              "      <td>Anirudh Ravichander</td>\n",
              "      <td>2024</td>\n",
              "      <td>59</td>\n",
              "      <td>https://i.scdn.co/image/ab67616d0000b273ce9c65...</td>\n",
              "      <td>Leo Das Entry (From \"Leo\")</td>\n",
              "      <td>0.0241</td>\n",
              "      <td>0.753</td>\n",
              "      <td>97297.0</td>\n",
              "      <td>...</td>\n",
              "      <td>8.0</td>\n",
              "      <td>0.1000</td>\n",
              "      <td>-5.994</td>\n",
              "      <td>0.0</td>\n",
              "      <td>0.1030</td>\n",
              "      <td>110.997</td>\n",
              "      <td>4.0</td>\n",
              "      <td>0.459</td>\n",
              "      <td>https://open.spotify.com/track/2r0ROhr7pRN4MXD...</td>\n",
              "      <td>Tamil</td>\n",
              "    </tr>\n",
              "    <tr>\n",
              "      <th>1</th>\n",
              "      <td>4I38e6Dg52a2o2a8i5Q5PW</td>\n",
              "      <td>AAO KILLELLE</td>\n",
              "      <td>Anirudh Ravichander, Pravin Mani, Vaishali Sri...</td>\n",
              "      <td>2024</td>\n",
              "      <td>47</td>\n",
              "      <td>https://i.scdn.co/image/ab67616d0000b273be1b03...</td>\n",
              "      <td>AAO KILLELLE</td>\n",
              "      <td>0.0851</td>\n",
              "      <td>0.780</td>\n",
              "      <td>207369.0</td>\n",
              "      <td>...</td>\n",
              "      <td>10.0</td>\n",
              "      <td>0.0951</td>\n",
              "      <td>-5.674</td>\n",
              "      <td>0.0</td>\n",
              "      <td>0.0952</td>\n",
              "      <td>164.995</td>\n",
              "      <td>3.0</td>\n",
              "      <td>0.821</td>\n",
              "      <td>https://open.spotify.com/track/4I38e6Dg52a2o2a...</td>\n",
              "      <td>Tamil</td>\n",
              "    </tr>\n",
              "    <tr>\n",
              "      <th>2</th>\n",
              "      <td>59NoiRhnom3lTeRFaBzOev</td>\n",
              "      <td>Mayakiriye Sirikiriye - Orchestral EDM</td>\n",
              "      <td>Anirudh Ravichander, Anivee, Alvin Bruno</td>\n",
              "      <td>2024</td>\n",
              "      <td>35</td>\n",
              "      <td>https://i.scdn.co/image/ab67616d0000b27334a1dd...</td>\n",
              "      <td>Mayakiriye Sirikiriye (Orchestral EDM)</td>\n",
              "      <td>0.0311</td>\n",
              "      <td>0.457</td>\n",
              "      <td>82551.0</td>\n",
              "      <td>...</td>\n",
              "      <td>2.0</td>\n",
              "      <td>0.0831</td>\n",
              "      <td>-8.937</td>\n",
              "      <td>0.0</td>\n",
              "      <td>0.1530</td>\n",
              "      <td>169.996</td>\n",
              "      <td>4.0</td>\n",
              "      <td>0.598</td>\n",
              "      <td>https://open.spotify.com/track/59NoiRhnom3lTeR...</td>\n",
              "      <td>Tamil</td>\n",
              "    </tr>\n",
              "    <tr>\n",
              "      <th>3</th>\n",
              "      <td>5uUqRQd385pvLxC8JX3tXn</td>\n",
              "      <td>Scene Ah Scene Ah - Experimental EDM Mix</td>\n",
              "      <td>Anirudh Ravichander, Bharath Sankar, Kabilan, ...</td>\n",
              "      <td>2024</td>\n",
              "      <td>24</td>\n",
              "      <td>https://i.scdn.co/image/ab67616d0000b27332e623...</td>\n",
              "      <td>Scene Ah Scene Ah (Experimental EDM Mix)</td>\n",
              "      <td>0.2270</td>\n",
              "      <td>0.718</td>\n",
              "      <td>115831.0</td>\n",
              "      <td>...</td>\n",
              "      <td>7.0</td>\n",
              "      <td>0.1240</td>\n",
              "      <td>-11.104</td>\n",
              "      <td>1.0</td>\n",
              "      <td>0.4450</td>\n",
              "      <td>169.996</td>\n",
              "      <td>4.0</td>\n",
              "      <td>0.362</td>\n",
              "      <td>https://open.spotify.com/track/5uUqRQd385pvLxC...</td>\n",
              "      <td>Tamil</td>\n",
              "    </tr>\n",
              "    <tr>\n",
              "      <th>4</th>\n",
              "      <td>1KaBRg2xgNeCljmyxBH1mo</td>\n",
              "      <td>Gundellonaa X I Am A Disco Dancer - Mashup</td>\n",
              "      <td>Anirudh Ravichander, Benny Dayal, Leon James, ...</td>\n",
              "      <td>2024</td>\n",
              "      <td>22</td>\n",
              "      <td>https://i.scdn.co/image/ab67616d0000b2735a59b6...</td>\n",
              "      <td>Gundellonaa X I Am a Disco Dancer (Mashup)</td>\n",
              "      <td>0.0153</td>\n",
              "      <td>0.689</td>\n",
              "      <td>129621.0</td>\n",
              "      <td>...</td>\n",
              "      <td>7.0</td>\n",
              "      <td>0.3450</td>\n",
              "      <td>-9.637</td>\n",
              "      <td>1.0</td>\n",
              "      <td>0.1580</td>\n",
              "      <td>128.961</td>\n",
              "      <td>4.0</td>\n",
              "      <td>0.593</td>\n",
              "      <td>https://open.spotify.com/track/1KaBRg2xgNeCljm...</td>\n",
              "      <td>Tamil</td>\n",
              "    </tr>\n",
              "    <tr>\n",
              "      <th>...</th>\n",
              "      <td>...</td>\n",
              "      <td>...</td>\n",
              "      <td>...</td>\n",
              "      <td>...</td>\n",
              "      <td>...</td>\n",
              "      <td>...</td>\n",
              "      <td>...</td>\n",
              "      <td>...</td>\n",
              "      <td>...</td>\n",
              "      <td>...</td>\n",
              "      <td>...</td>\n",
              "      <td>...</td>\n",
              "      <td>...</td>\n",
              "      <td>...</td>\n",
              "      <td>...</td>\n",
              "      <td>...</td>\n",
              "      <td>...</td>\n",
              "      <td>...</td>\n",
              "      <td>...</td>\n",
              "      <td>...</td>\n",
              "      <td>...</td>\n",
              "    </tr>\n",
              "    <tr>\n",
              "      <th>28946</th>\n",
              "      <td>7dDY45rR3idfeCypFDrk0G</td>\n",
              "      <td>One and Only</td>\n",
              "      <td>ENHYPEN</td>\n",
              "      <td>2023</td>\n",
              "      <td>62</td>\n",
              "      <td>https://i.scdn.co/image/ab67616d0000b273379ddd...</td>\n",
              "      <td>One and Only</td>\n",
              "      <td>0.4040</td>\n",
              "      <td>0.707</td>\n",
              "      <td>166387.0</td>\n",
              "      <td>...</td>\n",
              "      <td>7.0</td>\n",
              "      <td>0.0916</td>\n",
              "      <td>-4.121</td>\n",
              "      <td>1.0</td>\n",
              "      <td>0.0480</td>\n",
              "      <td>137.919</td>\n",
              "      <td>4.0</td>\n",
              "      <td>0.936</td>\n",
              "      <td>https://open.spotify.com/track/7dDY45rR3idfeCy...</td>\n",
              "      <td>Korean</td>\n",
              "    </tr>\n",
              "    <tr>\n",
              "      <th>28947</th>\n",
              "      <td>3JdYRIhtpQd56Dj3rhMRoC</td>\n",
              "      <td>Mortal</td>\n",
              "      <td>ENHYPEN</td>\n",
              "      <td>2023</td>\n",
              "      <td>60</td>\n",
              "      <td>https://i.scdn.co/image/ab67616d0000b273d364c1...</td>\n",
              "      <td>ORANGE BLOOD</td>\n",
              "      <td>0.5890</td>\n",
              "      <td>0.609</td>\n",
              "      <td>227769.0</td>\n",
              "      <td>...</td>\n",
              "      <td>7.0</td>\n",
              "      <td>0.1240</td>\n",
              "      <td>-7.843</td>\n",
              "      <td>1.0</td>\n",
              "      <td>0.0844</td>\n",
              "      <td>140.866</td>\n",
              "      <td>4.0</td>\n",
              "      <td>0.341</td>\n",
              "      <td>https://open.spotify.com/track/3JdYRIhtpQd56Dj...</td>\n",
              "      <td>Korean</td>\n",
              "    </tr>\n",
              "    <tr>\n",
              "      <th>28948</th>\n",
              "      <td>1ITbrYluZnnVIUXE4PAq2s</td>\n",
              "      <td>BLOSSOM</td>\n",
              "      <td>ENHYPEN</td>\n",
              "      <td>2023</td>\n",
              "      <td>61</td>\n",
              "      <td>https://i.scdn.co/image/ab67616d0000b2737789c0...</td>\n",
              "      <td>BLOSSOM</td>\n",
              "      <td>0.4270</td>\n",
              "      <td>0.599</td>\n",
              "      <td>236332.0</td>\n",
              "      <td>...</td>\n",
              "      <td>1.0</td>\n",
              "      <td>0.2510</td>\n",
              "      <td>-4.587</td>\n",
              "      <td>0.0</td>\n",
              "      <td>0.0398</td>\n",
              "      <td>139.857</td>\n",
              "      <td>4.0</td>\n",
              "      <td>0.525</td>\n",
              "      <td>https://open.spotify.com/track/1ITbrYluZnnVIUX...</td>\n",
              "      <td>Korean</td>\n",
              "    </tr>\n",
              "    <tr>\n",
              "      <th>28949</th>\n",
              "      <td>2uXvTCV3s5LN9mdDW7hAkn</td>\n",
              "      <td>Keep Swimmin' Through</td>\n",
              "      <td>ENHYPEN, The Cast of Baby Shark's Big Movie, P...</td>\n",
              "      <td>2023</td>\n",
              "      <td>55</td>\n",
              "      <td>https://i.scdn.co/image/ab67616d0000b27343b253...</td>\n",
              "      <td>Keep Swimmin' Through</td>\n",
              "      <td>0.0487</td>\n",
              "      <td>0.684</td>\n",
              "      <td>95300.0</td>\n",
              "      <td>...</td>\n",
              "      <td>11.0</td>\n",
              "      <td>0.7960</td>\n",
              "      <td>-4.777</td>\n",
              "      <td>0.0</td>\n",
              "      <td>0.0670</td>\n",
              "      <td>115.950</td>\n",
              "      <td>4.0</td>\n",
              "      <td>0.939</td>\n",
              "      <td>https://open.spotify.com/track/2uXvTCV3s5LN9md...</td>\n",
              "      <td>Korean</td>\n",
              "    </tr>\n",
              "    <tr>\n",
              "      <th>28950</th>\n",
              "      <td>3v8hC61VqQ95xwBiLg1JPg</td>\n",
              "      <td>Sweet Venom (feat. Bella Poarch)</td>\n",
              "      <td>ENHYPEN, Bella Poarch</td>\n",
              "      <td>2023</td>\n",
              "      <td>57</td>\n",
              "      <td>https://i.scdn.co/image/ab67616d0000b273d364c1...</td>\n",
              "      <td>ORANGE BLOOD</td>\n",
              "      <td>0.0549</td>\n",
              "      <td>0.869</td>\n",
              "      <td>148753.0</td>\n",
              "      <td>...</td>\n",
              "      <td>NaN</td>\n",
              "      <td>NaN</td>\n",
              "      <td>NaN</td>\n",
              "      <td>NaN</td>\n",
              "      <td>NaN</td>\n",
              "      <td>NaN</td>\n",
              "      <td>NaN</td>\n",
              "      <td>NaN</td>\n",
              "      <td>NaN</td>\n",
              "      <td>NaN</td>\n",
              "    </tr>\n",
              "  </tbody>\n",
              "</table>\n",
              "<p>28876 rows × 22 columns</p>\n",
              "</div>\n",
              "    <div class=\"colab-df-buttons\">\n",
              "\n",
              "  <div class=\"colab-df-container\">\n",
              "    <button class=\"colab-df-convert\" onclick=\"convertToInteractive('df-313944bf-504e-4d79-adee-516336c58553')\"\n",
              "            title=\"Convert this dataframe to an interactive table.\"\n",
              "            style=\"display:none;\">\n",
              "\n",
              "  <svg xmlns=\"http://www.w3.org/2000/svg\" height=\"24px\" viewBox=\"0 -960 960 960\">\n",
              "    <path d=\"M120-120v-720h720v720H120Zm60-500h600v-160H180v160Zm220 220h160v-160H400v160Zm0 220h160v-160H400v160ZM180-400h160v-160H180v160Zm440 0h160v-160H620v160ZM180-180h160v-160H180v160Zm440 0h160v-160H620v160Z\"/>\n",
              "  </svg>\n",
              "    </button>\n",
              "\n",
              "  <style>\n",
              "    .colab-df-container {\n",
              "      display:flex;\n",
              "      gap: 12px;\n",
              "    }\n",
              "\n",
              "    .colab-df-convert {\n",
              "      background-color: #E8F0FE;\n",
              "      border: none;\n",
              "      border-radius: 50%;\n",
              "      cursor: pointer;\n",
              "      display: none;\n",
              "      fill: #1967D2;\n",
              "      height: 32px;\n",
              "      padding: 0 0 0 0;\n",
              "      width: 32px;\n",
              "    }\n",
              "\n",
              "    .colab-df-convert:hover {\n",
              "      background-color: #E2EBFA;\n",
              "      box-shadow: 0px 1px 2px rgba(60, 64, 67, 0.3), 0px 1px 3px 1px rgba(60, 64, 67, 0.15);\n",
              "      fill: #174EA6;\n",
              "    }\n",
              "\n",
              "    .colab-df-buttons div {\n",
              "      margin-bottom: 4px;\n",
              "    }\n",
              "\n",
              "    [theme=dark] .colab-df-convert {\n",
              "      background-color: #3B4455;\n",
              "      fill: #D2E3FC;\n",
              "    }\n",
              "\n",
              "    [theme=dark] .colab-df-convert:hover {\n",
              "      background-color: #434B5C;\n",
              "      box-shadow: 0px 1px 3px 1px rgba(0, 0, 0, 0.15);\n",
              "      filter: drop-shadow(0px 1px 2px rgba(0, 0, 0, 0.3));\n",
              "      fill: #FFFFFF;\n",
              "    }\n",
              "  </style>\n",
              "\n",
              "    <script>\n",
              "      const buttonEl =\n",
              "        document.querySelector('#df-313944bf-504e-4d79-adee-516336c58553 button.colab-df-convert');\n",
              "      buttonEl.style.display =\n",
              "        google.colab.kernel.accessAllowed ? 'block' : 'none';\n",
              "\n",
              "      async function convertToInteractive(key) {\n",
              "        const element = document.querySelector('#df-313944bf-504e-4d79-adee-516336c58553');\n",
              "        const dataTable =\n",
              "          await google.colab.kernel.invokeFunction('convertToInteractive',\n",
              "                                                    [key], {});\n",
              "        if (!dataTable) return;\n",
              "\n",
              "        const docLinkHtml = 'Like what you see? Visit the ' +\n",
              "          '<a target=\"_blank\" href=https://colab.research.google.com/notebooks/data_table.ipynb>data table notebook</a>'\n",
              "          + ' to learn more about interactive tables.';\n",
              "        element.innerHTML = '';\n",
              "        dataTable['output_type'] = 'display_data';\n",
              "        await google.colab.output.renderOutput(dataTable, element);\n",
              "        const docLink = document.createElement('div');\n",
              "        docLink.innerHTML = docLinkHtml;\n",
              "        element.appendChild(docLink);\n",
              "      }\n",
              "    </script>\n",
              "  </div>\n",
              "\n",
              "\n",
              "<div id=\"df-fb63b916-3a0c-48b9-be18-bc0508118d1f\">\n",
              "  <button class=\"colab-df-quickchart\" onclick=\"quickchart('df-fb63b916-3a0c-48b9-be18-bc0508118d1f')\"\n",
              "            title=\"Suggest charts\"\n",
              "            style=\"display:none;\">\n",
              "\n",
              "<svg xmlns=\"http://www.w3.org/2000/svg\" height=\"24px\"viewBox=\"0 0 24 24\"\n",
              "     width=\"24px\">\n",
              "    <g>\n",
              "        <path d=\"M19 3H5c-1.1 0-2 .9-2 2v14c0 1.1.9 2 2 2h14c1.1 0 2-.9 2-2V5c0-1.1-.9-2-2-2zM9 17H7v-7h2v7zm4 0h-2V7h2v10zm4 0h-2v-4h2v4z\"/>\n",
              "    </g>\n",
              "</svg>\n",
              "  </button>\n",
              "\n",
              "<style>\n",
              "  .colab-df-quickchart {\n",
              "      --bg-color: #E8F0FE;\n",
              "      --fill-color: #1967D2;\n",
              "      --hover-bg-color: #E2EBFA;\n",
              "      --hover-fill-color: #174EA6;\n",
              "      --disabled-fill-color: #AAA;\n",
              "      --disabled-bg-color: #DDD;\n",
              "  }\n",
              "\n",
              "  [theme=dark] .colab-df-quickchart {\n",
              "      --bg-color: #3B4455;\n",
              "      --fill-color: #D2E3FC;\n",
              "      --hover-bg-color: #434B5C;\n",
              "      --hover-fill-color: #FFFFFF;\n",
              "      --disabled-bg-color: #3B4455;\n",
              "      --disabled-fill-color: #666;\n",
              "  }\n",
              "\n",
              "  .colab-df-quickchart {\n",
              "    background-color: var(--bg-color);\n",
              "    border: none;\n",
              "    border-radius: 50%;\n",
              "    cursor: pointer;\n",
              "    display: none;\n",
              "    fill: var(--fill-color);\n",
              "    height: 32px;\n",
              "    padding: 0;\n",
              "    width: 32px;\n",
              "  }\n",
              "\n",
              "  .colab-df-quickchart:hover {\n",
              "    background-color: var(--hover-bg-color);\n",
              "    box-shadow: 0 1px 2px rgba(60, 64, 67, 0.3), 0 1px 3px 1px rgba(60, 64, 67, 0.15);\n",
              "    fill: var(--button-hover-fill-color);\n",
              "  }\n",
              "\n",
              "  .colab-df-quickchart-complete:disabled,\n",
              "  .colab-df-quickchart-complete:disabled:hover {\n",
              "    background-color: var(--disabled-bg-color);\n",
              "    fill: var(--disabled-fill-color);\n",
              "    box-shadow: none;\n",
              "  }\n",
              "\n",
              "  .colab-df-spinner {\n",
              "    border: 2px solid var(--fill-color);\n",
              "    border-color: transparent;\n",
              "    border-bottom-color: var(--fill-color);\n",
              "    animation:\n",
              "      spin 1s steps(1) infinite;\n",
              "  }\n",
              "\n",
              "  @keyframes spin {\n",
              "    0% {\n",
              "      border-color: transparent;\n",
              "      border-bottom-color: var(--fill-color);\n",
              "      border-left-color: var(--fill-color);\n",
              "    }\n",
              "    20% {\n",
              "      border-color: transparent;\n",
              "      border-left-color: var(--fill-color);\n",
              "      border-top-color: var(--fill-color);\n",
              "    }\n",
              "    30% {\n",
              "      border-color: transparent;\n",
              "      border-left-color: var(--fill-color);\n",
              "      border-top-color: var(--fill-color);\n",
              "      border-right-color: var(--fill-color);\n",
              "    }\n",
              "    40% {\n",
              "      border-color: transparent;\n",
              "      border-right-color: var(--fill-color);\n",
              "      border-top-color: var(--fill-color);\n",
              "    }\n",
              "    60% {\n",
              "      border-color: transparent;\n",
              "      border-right-color: var(--fill-color);\n",
              "    }\n",
              "    80% {\n",
              "      border-color: transparent;\n",
              "      border-right-color: var(--fill-color);\n",
              "      border-bottom-color: var(--fill-color);\n",
              "    }\n",
              "    90% {\n",
              "      border-color: transparent;\n",
              "      border-bottom-color: var(--fill-color);\n",
              "    }\n",
              "  }\n",
              "</style>\n",
              "\n",
              "  <script>\n",
              "    async function quickchart(key) {\n",
              "      const quickchartButtonEl =\n",
              "        document.querySelector('#' + key + ' button');\n",
              "      quickchartButtonEl.disabled = true;  // To prevent multiple clicks.\n",
              "      quickchartButtonEl.classList.add('colab-df-spinner');\n",
              "      try {\n",
              "        const charts = await google.colab.kernel.invokeFunction(\n",
              "            'suggestCharts', [key], {});\n",
              "      } catch (error) {\n",
              "        console.error('Error during call to suggestCharts:', error);\n",
              "      }\n",
              "      quickchartButtonEl.classList.remove('colab-df-spinner');\n",
              "      quickchartButtonEl.classList.add('colab-df-quickchart-complete');\n",
              "    }\n",
              "    (() => {\n",
              "      let quickchartButtonEl =\n",
              "        document.querySelector('#df-fb63b916-3a0c-48b9-be18-bc0508118d1f button');\n",
              "      quickchartButtonEl.style.display =\n",
              "        google.colab.kernel.accessAllowed ? 'block' : 'none';\n",
              "    })();\n",
              "  </script>\n",
              "</div>\n",
              "\n",
              "    </div>\n",
              "  </div>\n"
            ],
            "application/vnd.google.colaboratory.intrinsic+json": {
              "type": "dataframe"
            }
          },
          "metadata": {},
          "execution_count": 5
        }
      ]
    },
    {
      "cell_type": "code",
      "source": [
        "unknown_songs = original_data[original_data['language'].str.lower() == 'unknown']\n",
        "\n",
        "unknown_song_names = unknown_songs['track_name']\n",
        "print(unknown_song_names)\n"
      ],
      "metadata": {
        "colab": {
          "base_uri": "https://localhost:8080/"
        },
        "id": "X3H4GnpEiZ11",
        "outputId": "d43b2f23-e2ee-4fdc-e55c-6ce846ac00b1"
      },
      "execution_count": 6,
      "outputs": [
        {
          "output_type": "stream",
          "name": "stdout",
          "text": [
            "1169                      Ori Vaari - Lofi Flip\n",
            "1170     Neeye Oli - From \"Sarpatta Parambarai\"\n",
            "1171                             Wrong Pannadha\n",
            "1172     Maamadura - From \"Jigarthanda DoubleX\"\n",
            "1173                               Unakku Thaan\n",
            "                          ...                  \n",
            "28684       Kegagalan Cinta - Alternate Version\n",
            "28685                           Kamu Yang Kumau\n",
            "28686                           Bukan Main-Main\n",
            "28687                                  Aku Gila\n",
            "28688                     Cinta Jangan Sembunyi\n",
            "Name: track_name, Length: 11692, dtype: object\n"
          ]
        }
      ]
    },
    {
      "cell_type": "code",
      "source": [
        "search_term = \"soch\"\n",
        "result = original_data[original_data['track_name'].str.contains(search_term, case=False, na=False)]\n",
        "print(result[['track_name', 'artist_name', 'language']])\n"
      ],
      "metadata": {
        "colab": {
          "base_uri": "https://localhost:8080/"
        },
        "id": "p18Jlevaivqe",
        "outputId": "cc5bcd86-8800-4ee3-dcf6-65d8d3cb06cb"
      },
      "execution_count": 7,
      "outputs": [
        {
          "output_type": "stream",
          "name": "stdout",
          "text": [
            "                                track_name  \\\n",
            "7301                       Soch Liya Remix   \n",
            "7706             Maine Socha Ke Chura Loon   \n",
            "7710         Soch Na Sake (From \"Airlift\")   \n",
            "7781         Soch Na Sake (From \"Airlift\")   \n",
            "7889         Soch Na Sake (From \"Airlift\")   \n",
            "7920          Soch Na Sake (From \"Airlift)   \n",
            "8006                          Soch Na Sake   \n",
            "8643                    Kabhi Socha Na Tha   \n",
            "13931                    Tujhe Sochta Hoon   \n",
            "14171                    Tujhe Sochta Hoon   \n",
            "14665  Tujhe Sochta Hoon (From \"Jannat 2\")   \n",
            "14682  Tujhe Sochta Hoon (From \"Jannat 2\")   \n",
            "14785                    Tujhe Sochta Hoon   \n",
            "18367                         Aage Ki Soch   \n",
            "26284                            Socha Hai   \n",
            "26505      Maine Soch Liya - Jhankar Beats   \n",
            "26862                     Socha Bhi Na Tha   \n",
            "27127                   Kya Hai Sochati Tu   \n",
            "\n",
            "                                             artist_name language  \n",
            "7301                 Arijit Singh, Mithoon, Dj Amit Shah    Hindi  \n",
            "7706                        Arijit Singh, Shreya Ghoshal    Hindi  \n",
            "7710                                        Arijit Singh    Hindi  \n",
            "7781                                        Arijit Singh    Hindi  \n",
            "7889                                        Arijit Singh    Hindi  \n",
            "7920                                        Arijit Singh    Hindi  \n",
            "8006                                        Arijit Singh    Hindi  \n",
            "8643                                           Javed Ali    Hindi  \n",
            "13931                                         Pritam, KK    Hindi  \n",
            "14171                                         Pritam, KK    Hindi  \n",
            "14665                                         Pritam, KK    Hindi  \n",
            "14682                                         Pritam, KK    Hindi  \n",
            "14785                                         Pritam, KK    Hindi  \n",
            "18367      Jonita Gandhi, Shashwat Singh, Akshay The One  Unknown  \n",
            "26284                                      Farhan Akhtar  Unknown  \n",
            "26505  Shreya Ghoshal, Udit Narayan, Sameer, Hero And...  Unknown  \n",
            "26862                                     Shreya Ghoshal  Unknown  \n",
            "27127                  Shreya Ghoshal, Shankar Mahadevan  Unknown  \n"
          ]
        }
      ]
    },
    {
      "cell_type": "code",
      "source": [
        "for col in original_data.columns: #drop missing terms\n",
        "  original_data.dropna(inplace=True)"
      ],
      "metadata": {
        "id": "JfPc6_9D40U0"
      },
      "execution_count": 8,
      "outputs": []
    },
    {
      "cell_type": "code",
      "source": [
        "original_data.isnull().sum() #checking again"
      ],
      "metadata": {
        "id": "18Ud4E6611D2",
        "outputId": "511d2934-7c9a-4690-c905-a2cd7484a5ac",
        "colab": {
          "base_uri": "https://localhost:8080/",
          "height": 774
        }
      },
      "execution_count": 9,
      "outputs": [
        {
          "output_type": "execute_result",
          "data": {
            "text/plain": [
              "track_id            0\n",
              "track_name          0\n",
              "artist_name         0\n",
              "year                0\n",
              "popularity          0\n",
              "artwork_url         0\n",
              "album_name          0\n",
              "acousticness        0\n",
              "danceability        0\n",
              "duration_ms         0\n",
              "energy              0\n",
              "instrumentalness    0\n",
              "key                 0\n",
              "liveness            0\n",
              "loudness            0\n",
              "mode                0\n",
              "speechiness         0\n",
              "tempo               0\n",
              "time_signature      0\n",
              "valence             0\n",
              "track_url           0\n",
              "language            0\n",
              "dtype: int64"
            ],
            "text/html": [
              "<div>\n",
              "<style scoped>\n",
              "    .dataframe tbody tr th:only-of-type {\n",
              "        vertical-align: middle;\n",
              "    }\n",
              "\n",
              "    .dataframe tbody tr th {\n",
              "        vertical-align: top;\n",
              "    }\n",
              "\n",
              "    .dataframe thead th {\n",
              "        text-align: right;\n",
              "    }\n",
              "</style>\n",
              "<table border=\"1\" class=\"dataframe\">\n",
              "  <thead>\n",
              "    <tr style=\"text-align: right;\">\n",
              "      <th></th>\n",
              "      <th>0</th>\n",
              "    </tr>\n",
              "  </thead>\n",
              "  <tbody>\n",
              "    <tr>\n",
              "      <th>track_id</th>\n",
              "      <td>0</td>\n",
              "    </tr>\n",
              "    <tr>\n",
              "      <th>track_name</th>\n",
              "      <td>0</td>\n",
              "    </tr>\n",
              "    <tr>\n",
              "      <th>artist_name</th>\n",
              "      <td>0</td>\n",
              "    </tr>\n",
              "    <tr>\n",
              "      <th>year</th>\n",
              "      <td>0</td>\n",
              "    </tr>\n",
              "    <tr>\n",
              "      <th>popularity</th>\n",
              "      <td>0</td>\n",
              "    </tr>\n",
              "    <tr>\n",
              "      <th>artwork_url</th>\n",
              "      <td>0</td>\n",
              "    </tr>\n",
              "    <tr>\n",
              "      <th>album_name</th>\n",
              "      <td>0</td>\n",
              "    </tr>\n",
              "    <tr>\n",
              "      <th>acousticness</th>\n",
              "      <td>0</td>\n",
              "    </tr>\n",
              "    <tr>\n",
              "      <th>danceability</th>\n",
              "      <td>0</td>\n",
              "    </tr>\n",
              "    <tr>\n",
              "      <th>duration_ms</th>\n",
              "      <td>0</td>\n",
              "    </tr>\n",
              "    <tr>\n",
              "      <th>energy</th>\n",
              "      <td>0</td>\n",
              "    </tr>\n",
              "    <tr>\n",
              "      <th>instrumentalness</th>\n",
              "      <td>0</td>\n",
              "    </tr>\n",
              "    <tr>\n",
              "      <th>key</th>\n",
              "      <td>0</td>\n",
              "    </tr>\n",
              "    <tr>\n",
              "      <th>liveness</th>\n",
              "      <td>0</td>\n",
              "    </tr>\n",
              "    <tr>\n",
              "      <th>loudness</th>\n",
              "      <td>0</td>\n",
              "    </tr>\n",
              "    <tr>\n",
              "      <th>mode</th>\n",
              "      <td>0</td>\n",
              "    </tr>\n",
              "    <tr>\n",
              "      <th>speechiness</th>\n",
              "      <td>0</td>\n",
              "    </tr>\n",
              "    <tr>\n",
              "      <th>tempo</th>\n",
              "      <td>0</td>\n",
              "    </tr>\n",
              "    <tr>\n",
              "      <th>time_signature</th>\n",
              "      <td>0</td>\n",
              "    </tr>\n",
              "    <tr>\n",
              "      <th>valence</th>\n",
              "      <td>0</td>\n",
              "    </tr>\n",
              "    <tr>\n",
              "      <th>track_url</th>\n",
              "      <td>0</td>\n",
              "    </tr>\n",
              "    <tr>\n",
              "      <th>language</th>\n",
              "      <td>0</td>\n",
              "    </tr>\n",
              "  </tbody>\n",
              "</table>\n",
              "</div><br><label><b>dtype:</b> int64</label>"
            ]
          },
          "metadata": {},
          "execution_count": 9
        }
      ]
    },
    {
      "cell_type": "code",
      "source": [
        "original_data.shape"
      ],
      "metadata": {
        "colab": {
          "base_uri": "https://localhost:8080/"
        },
        "id": "2VZg58stzz2F",
        "outputId": "fdb578c9-93d1-48b4-f35f-1723dcfba9eb"
      },
      "execution_count": 10,
      "outputs": [
        {
          "output_type": "execute_result",
          "data": {
            "text/plain": [
              "(28950, 22)"
            ]
          },
          "metadata": {},
          "execution_count": 10
        }
      ]
    },
    {
      "cell_type": "code",
      "source": [
        "from sklearn.preprocessing import OneHotEncoder\n",
        "from sklearn.compose import ColumnTransformer"
      ],
      "metadata": {
        "id": "BWPiG8CqTWjk"
      },
      "execution_count": 11,
      "outputs": []
    },
    {
      "cell_type": "code",
      "source": [
        "# Selecting relevant columns for our predictive model\n",
        "selected_columns = [\n",
        "    'year', 'popularity', 'acousticness', 'danceability',\n",
        "    'duration_ms', 'energy', 'instrumentalness', 'key',\n",
        "    'liveness', 'loudness', 'mode', 'speechiness',\n",
        "    'tempo', 'time_signature', 'valence'\n",
        "]\n",
        "\n",
        "\n",
        "dataframe_features = original_data[selected_columns]\n",
        "\n",
        "#Identifying columns for different preprocessing methods\n",
        "numerical_cols = ['year', 'popularity', 'duration_ms', 'loudness', 'tempo'] #we need to encode popularity\n",
        "categorical_cols = ['key', 'time_signature'] #these need to be categorical\n",
        "passthrough_cols = ['acousticness', 'danceability', 'energy', 'instrumentalness',\n",
        "                    'liveness', 'mode', 'speechiness', 'valence']\n",
        "\n",
        "# Step 3: Create a ColumnTransformer for preprocessing\n",
        "preprocessor = ColumnTransformer(\n",
        "    transformers=[\n",
        "        ('num', StandardScaler(), numerical_cols),#numerical categories being encoded\n",
        "        ('cat', OneHotEncoder(handle_unknown='ignore'), categorical_cols) #already scaled beteen 0 and 1 by dataset\n",
        "    ],\n",
        "    remainder='passthrough'  # keep acousticness, etc. without changes\n",
        ")\n"
      ],
      "metadata": {
        "id": "ukFAjW8CTCpG"
      },
      "execution_count": 12,
      "outputs": []
    },
    {
      "cell_type": "code",
      "source": [
        "dataframe_features.info()"
      ],
      "metadata": {
        "colab": {
          "base_uri": "https://localhost:8080/"
        },
        "id": "LuSrkhoD4XjZ",
        "outputId": "2314f15c-06bd-44d0-b867-5ca06276d185"
      },
      "execution_count": 13,
      "outputs": [
        {
          "output_type": "stream",
          "name": "stdout",
          "text": [
            "<class 'pandas.core.frame.DataFrame'>\n",
            "Index: 28950 entries, 0 to 28949\n",
            "Data columns (total 15 columns):\n",
            " #   Column            Non-Null Count  Dtype  \n",
            "---  ------            --------------  -----  \n",
            " 0   year              28950 non-null  int64  \n",
            " 1   popularity        28950 non-null  int64  \n",
            " 2   acousticness      28950 non-null  float64\n",
            " 3   danceability      28950 non-null  float64\n",
            " 4   duration_ms       28950 non-null  float64\n",
            " 5   energy            28950 non-null  float64\n",
            " 6   instrumentalness  28950 non-null  float64\n",
            " 7   key               28950 non-null  float64\n",
            " 8   liveness          28950 non-null  float64\n",
            " 9   loudness          28950 non-null  float64\n",
            " 10  mode              28950 non-null  float64\n",
            " 11  speechiness       28950 non-null  float64\n",
            " 12  tempo             28950 non-null  float64\n",
            " 13  time_signature    28950 non-null  float64\n",
            " 14  valence           28950 non-null  float64\n",
            "dtypes: float64(13), int64(2)\n",
            "memory usage: 3.5 MB\n"
          ]
        }
      ]
    },
    {
      "cell_type": "code",
      "source": [
        "sc=StandardScaler()\n",
        "dataframe=sc.fit_transform(dataframe_features)  #to centre and scale the data preparing it for PCA s.t. mean is zero and standard deviation is 1"
      ],
      "metadata": {
        "id": "BI7bj2b61_bU"
      },
      "execution_count": 14,
      "outputs": []
    },
    {
      "cell_type": "markdown",
      "source": [
        "<h1>KMEANS"
      ],
      "metadata": {
        "id": "Le9tn8BIAwZp"
      }
    },
    {
      "cell_type": "markdown",
      "source": [
        "**K means** is an ***unsupervised machine learning*** technique that helps us group *unlabeled* data into various clusters on the basis of their similarity.\n",
        "\n",
        "It is a ***“hard”*** clustering method. This form of grouping stipulates that a data point can exist in just one cluster.\n",
        "\n",
        "It is an ***iterative, centroid-based*** clustering algorithm that partitions a dataset into similar groups based on the distance between their centroids. The centroid, or cluster center, is either the mean or median of all the points within the cluster depending on the characteristics of the data."
      ],
      "metadata": {
        "id": "MacfO44WA0NW"
      }
    },
    {
      "cell_type": "markdown",
      "source": [
        "\n",
        "\n",
        "---\n",
        "\n"
      ],
      "metadata": {
        "id": "uPrWYxQvFJTS"
      }
    },
    {
      "cell_type": "markdown",
      "source": [
        "**<h3>Importing all important libraries**"
      ],
      "metadata": {
        "id": "BIcGBlGHHGny"
      }
    },
    {
      "cell_type": "code",
      "source": [
        "import matplotlib.pyplot as plt\n",
        "from sklearn.model_selection import train_test_split #to train test and split just in case\n",
        "from sklearn.decomposition import KernelPCA #Principal Component Analysis"
      ],
      "metadata": {
        "id": "b_QGxuCVHFz_"
      },
      "execution_count": 15,
      "outputs": []
    },
    {
      "cell_type": "markdown",
      "source": [
        "**Importing Data**"
      ],
      "metadata": {
        "id": "ts_5b1OqLzPC"
      }
    },
    {
      "cell_type": "code",
      "source": [
        "def get_language_song(original_data, data_scaled, language=\"hindi\"):\n",
        "    # Get indices of songs\n",
        "    song_indices = original_data[original_data['language'].str.contains(language, case=False, na=False)].index\n",
        "\n",
        "    # Filter scaled data to keep only songs of that language\n",
        "    songs_scaled = data_scaled[song_indices]\n",
        "\n",
        "    return songs_scaled\n"
      ],
      "metadata": {
        "id": "jZKTLgCALyzi"
      },
      "execution_count": 16,
      "outputs": []
    },
    {
      "cell_type": "code",
      "source": [
        "#no. of languages available\n",
        "list_of_languages=original_data['language'].unique()\n",
        "print(list_of_languages)"
      ],
      "metadata": {
        "colab": {
          "base_uri": "https://localhost:8080/"
        },
        "id": "T4vS-CjeiD-b",
        "outputId": "70816ebd-a613-44fd-d11f-225c134f16ff"
      },
      "execution_count": 17,
      "outputs": [
        {
          "output_type": "stream",
          "name": "stdout",
          "text": [
            "['Tamil' 'English' 'Hindi' 'Unknown' 'Korean']\n"
          ]
        }
      ]
    },
    {
      "cell_type": "code",
      "source": [
        "#change hear need to introduce for all languages"
      ],
      "metadata": {
        "id": "Oc_h0egoYHay"
      },
      "execution_count": 18,
      "outputs": []
    },
    {
      "cell_type": "markdown",
      "source": [
        "\n",
        "\n",
        "---\n",
        "\n"
      ],
      "metadata": {
        "id": "7eld6KExYV8-"
      }
    },
    {
      "cell_type": "code",
      "source": [
        "# Filter songs_scaled and song_names\n",
        "hindi_songs_scaled = get_language_song(original_data,dataframe)# Our scaled Hindi features\n",
        "\n",
        "\n",
        "# Checking the shape of the filtered dataset\n",
        "print(hindi_songs_scaled.shape)  # (number_of_lang_songs, num_features)\n",
        "print(hindi_songs_scaled)"
      ],
      "metadata": {
        "id": "eq5b9k45a68h",
        "outputId": "55e42b4c-1ae8-425e-eaa0-a49b1d121c2f",
        "colab": {
          "base_uri": "https://localhost:8080/"
        }
      },
      "execution_count": 19,
      "outputs": [
        {
          "output_type": "stream",
          "name": "stdout",
          "text": [
            "(4456, 15)\n",
            "[[ 1.2866747   0.83452876 -0.25031706 ... -0.43229959  0.27241051\n",
            "  -0.26937008]\n",
            " [ 1.11825417  1.38338168 -1.12602448 ... -0.89585076  0.27241051\n",
            "  -0.12413257]\n",
            " [ 1.11825417  0.48525872 -1.21556504 ... -0.89620692  0.27241051\n",
            "  -0.58059331]\n",
            " ...\n",
            " [-1.2396333  -0.66234285 -0.68229586 ... -0.07663137  0.27241051\n",
            "   1.72245861]\n",
            " [-1.7448949  -0.86192573 -0.23303791 ... -0.46959026  0.27241051\n",
            "  -0.11583328]\n",
            " [-1.7448949  -0.66234285  1.3600999  ... -0.86589712  0.27241051\n",
            "   0.86348249]]\n"
          ]
        }
      ]
    },
    {
      "cell_type": "code",
      "source": [
        "# Filter songs_scaled and song_names\n",
        "english_songs_scaled = get_language_song(original_data,dataframe,\"english\")# Our scaled Hindi features\n",
        "\n",
        "\n",
        "# Checking the shape of the filtered dataset\n",
        "print(english_songs_scaled.shape)  # (number_of_lang_songs, num_features)\n",
        "print(english_songs_scaled)"
      ],
      "metadata": {
        "colab": {
          "base_uri": "https://localhost:8080/"
        },
        "id": "GX1S7b0IfMUk",
        "outputId": "eb0c3c09-a106-4ba6-9950-1674871cd9f3"
      },
      "execution_count": 20,
      "outputs": [
        {
          "output_type": "stream",
          "name": "stdout",
          "text": [
            "(5689, 15)\n",
            "[[ 1.2866747   0.03619723 -0.80670575 ...  0.064197    0.27241051\n",
            "   1.26599787]\n",
            " [ 1.2866747  -0.26317709  0.34062994 ... -0.67609581  0.27241051\n",
            "   0.83858463]\n",
            " [ 1.11825417 -0.51265569 -1.12671564 ...  0.35009214  0.27241051\n",
            "  -0.01624185]\n",
            " ...\n",
            " [-0.90279224  1.682756    1.32899743 ...  1.13700719  0.27241051\n",
            "  -0.43950544]\n",
            " [-0.90279224  1.63286028  0.25077835 ... -0.31333986  0.27241051\n",
            "  -1.05365262]\n",
            " [-0.90279224  1.58296456 -1.17371494 ...  0.24527223  0.27241051\n",
            "  -1.26113478]]\n"
          ]
        }
      ]
    },
    {
      "cell_type": "code",
      "source": [
        "# Filter songs_scaled and song_names\n",
        "korean_songs_scaled = get_language_song(original_data,dataframe,\"korean\")# Our scaled Hindi features\n",
        "\n",
        "\n",
        "# Checking the shape of the filtered dataset\n",
        "print(korean_songs_scaled.shape)  # (number_of_lang_songs, num_features)\n",
        "print(korean_songs_scaled)"
      ],
      "metadata": {
        "colab": {
          "base_uri": "https://localhost:8080/"
        },
        "id": "CA1GtfBjfNf8",
        "outputId": "e4be06f2-d6f4-4f25-8671-8a0119077d21"
      },
      "execution_count": 21,
      "outputs": [
        {
          "output_type": "stream",
          "name": "stdout",
          "text": [
            "(806, 15)\n",
            "[[ 1.11825417 -0.61244713 -1.15643578 ...  1.49043156  0.27241051\n",
            "  -1.9781931 ]\n",
            " [ 1.11825417 -0.81203001 -1.13293614 ... -0.28840818  0.27241051\n",
            "  -1.85577863]\n",
            " [ 1.11825417  2.930149   -1.12533331 ... -0.89674117  0.27241051\n",
            "   0.20783888]\n",
            " ...\n",
            " [ 1.11825417  2.13181748  0.81753453 ...  0.80840765  0.27241051\n",
            "  -0.72583082]\n",
            " [ 1.11825417  2.1817132   0.25769001 ...  0.77247041  0.27241051\n",
            "   0.03770351]\n",
            " [ 1.11825417  1.88233888 -1.04965063 ... -0.07901769  0.27241051\n",
            "   1.75565576]]\n"
          ]
        }
      ]
    },
    {
      "cell_type": "code",
      "source": [
        "# Filter songs_scaled and song_names\n",
        "tamil_songs_scaled = get_language_song(original_data,dataframe,\"tamil\")# Our scaled Hindi features\n",
        "\n",
        "\n",
        "# Checking the shape of the filtered dataset\n",
        "print(tamil_songs_scaled.shape)  # (number_of_lang_songs, num_features)\n",
        "print(tamil_songs_scaled)"
      ],
      "metadata": {
        "colab": {
          "base_uri": "https://localhost:8080/"
        },
        "id": "D8zUg-82frja",
        "outputId": "81b9a5ca-c80c-4424-82de-1ec2394f11f4"
      },
      "execution_count": 22,
      "outputs": [
        {
          "output_type": "stream",
          "name": "stdout",
          "text": [
            "(6307, 15)\n",
            "[[ 1.2866747   2.08192176 -1.13466405 ... -0.25542713  0.27241051\n",
            "  -0.23617293]\n",
            " [ 1.2866747   1.48317312 -0.9238584  ...  1.66780266 -1.75282942\n",
            "   1.26599787]\n",
            " [ 1.2866747   0.88442448 -1.11047324 ...  1.8459217   0.27241051\n",
            "   0.34062746]\n",
            " ...\n",
            " [ 1.2866747  -0.31307281 -0.59244427 ... -0.11231929  0.27241051\n",
            "  -1.17814191]\n",
            " [ 1.2866747   0.435363   -0.41274109 ... -0.11093024  0.27241051\n",
            "  -1.3690255 ]\n",
            " [ 0.94983363 -0.01369849  0.22658754 ... -0.5776869   0.27241051\n",
            "   0.07090066]]\n"
          ]
        }
      ]
    },
    {
      "cell_type": "code",
      "source": [
        "# Filter songs_scaled and song_names\n",
        "unknown_songs_scaled = get_language_song(original_data,dataframe,\"unknown\")#unknown comprises a good chunk\n",
        "\n",
        "# Checking the shape of the filtered dataset\n",
        "print(unknown_songs_scaled.shape)  # (number_of_lang_songs, num_features)\n",
        "print(unknown_songs_scaled)"
      ],
      "metadata": {
        "colab": {
          "base_uri": "https://localhost:8080/"
        },
        "id": "jIg_YFXLjRCx",
        "outputId": "764ac9e0-0047-441a-b49a-85bec7efd5bc"
      },
      "execution_count": 23,
      "outputs": [
        {
          "output_type": "stream",
          "name": "stdout",
          "text": [
            "(11692, 15)\n",
            "[[ 1.2866747  -0.46275997  1.5190681  ... -0.64660519  0.27241051\n",
            "  -1.7619967 ]\n",
            " [ 1.2866747   0.03619723 -0.90899833 ...  1.49171376  0.27241051\n",
            "  -0.60134152]\n",
            " [ 1.2866747  -0.86192573 -0.49568101 ...  0.35212229  0.27241051\n",
            "   0.27008353]\n",
            " ...\n",
            " [-0.2291101  -0.01369849 -0.75832412 ...  0.63506124  0.27241051\n",
            "  -1.24038656]\n",
            " [-0.2291101  -0.06359421 -0.93837289 ...  1.42126396  0.27241051\n",
            "   1.42783395]\n",
            " [-0.39753064  0.435363   -1.20125791 ...  0.27917932  0.27241051\n",
            "  -0.1365815 ]]\n"
          ]
        }
      ]
    },
    {
      "cell_type": "markdown",
      "source": [
        "**<H3>PCA**"
      ],
      "metadata": {
        "id": "Shn1Xu4zOFtt"
      }
    },
    {
      "cell_type": "markdown",
      "source": [
        "In SKLEARN,\n",
        "Variation is calculated as:\n",
        "\n",
        "(measurement-mean)^2/no. of samples\n",
        "\n",
        "Below is the part where we do all the meansurements"
      ],
      "metadata": {
        "id": "RPEv2nvpRfx9"
      }
    },
    {
      "cell_type": "code",
      "source": [
        "kpca = KernelPCA(n_components=2,kernel=\"rbf\",gamma=0.1)  #reducing the number of components to 2 since it is easier to observe in terms of clusters"
      ],
      "metadata": {
        "id": "qtY7G8NoIGur"
      },
      "execution_count": 24,
      "outputs": []
    },
    {
      "cell_type": "code",
      "source": [
        "#where we do all the pca math of loading scores and variations each pca accounts for(basically co-ordinates)\n",
        "\n",
        "#we generate scores for a pca graph and variations\n",
        "\n",
        "hindi_kpca = kpca.fit_transform(hindi_songs_scaled)\n",
        "english_kpca = kpca.fit_transform(english_songs_scaled)\n",
        "unknown_kpca = kpca.fit_transform(unknown_songs_scaled)\n",
        "tamil_kpca = kpca.fit_transform(tamil_songs_scaled)\n",
        "korean_kpca = kpca.fit_transform(korean_songs_scaled)"
      ],
      "metadata": {
        "id": "dTpkI51qcvod"
      },
      "execution_count": 25,
      "outputs": []
    },
    {
      "cell_type": "markdown",
      "source": [
        "**<h3>Optimising K means</h3>**\n",
        "\n",
        "1. **Properly selecting the initial centroids**\n",
        "\n",
        " K Means++ is a more advanced method to initialise centroids as starting them out as random is a always a bad choice.\n"
      ],
      "metadata": {
        "id": "Ya4vW0KgFfbZ"
      }
    },
    {
      "cell_type": "code",
      "source": [
        "#K-Means++ for initial centroids\n",
        "def kmeans_plus_plus(X, k): #gets data and k's value\n",
        "    \"\"\"Initialize centroids using K-Means++ method.\"\"\"\n",
        "    np.random.seed(42)  # For reproducibility\n",
        "    n_samples = X.shape[0]\n",
        "\n",
        "    #Randomly selecting the first centroid\n",
        "    centroids = [X[np.random.randint(n_samples)]]\n",
        "\n",
        "    for i in range(1, k):\n",
        "        #Computing squared distances to the nearest centroid\n",
        "        distances = np.array([min(np.linalg.norm(x - c)**2 for c in centroids) for x in X])\n",
        "\n",
        "        #Choosing next centroid on the basis of probability proportional to distance²\n",
        "        probabilities=distances/distances.sum()\n",
        "        new_centroid_index=np.random.choice(n_samples,p=probabilities)\n",
        "\n",
        "        # Adding the new centroid\n",
        "        centroids.append(X[new_centroid_index])\n",
        "\n",
        "    return np.array(centroids)"
      ],
      "metadata": {
        "id": "SYqYiBtPAv9T"
      },
      "execution_count": 26,
      "outputs": []
    },
    {
      "cell_type": "code",
      "execution_count": 27,
      "metadata": {
        "id": "CFKx0mVCAY_e"
      },
      "outputs": [],
      "source": [
        "class KMeansFromScratch:\n",
        "    def __init__(self, k=None, max_k=6, max_iters=100, tol=1e-4, auto_k=True):\n",
        "        \"\"\"\n",
        "        k: Number of clusters (if None, auto-detect using Elbow method)\n",
        "        max_k: Max clusters for Elbow method (used if auto_k=True)\n",
        "        max_iters: Maximum iterations for convergence\n",
        "        tol: Tolerance to stop iterations early\n",
        "        auto_k: If True, automatically find the best k using Elbow method\n",
        "        \"\"\"\n",
        "        self.k = k\n",
        "        self.max_iters = max_iters\n",
        "        self.tol = tol\n",
        "        self.auto_k = auto_k\n",
        "        self.max_k = max_k\n",
        "\n",
        "    def fit(self, X):\n",
        "\n",
        "        if self.auto_k and self.k is None:\n",
        "            self.k = self.find_optimal_k(X)  # Find best k before clustering\n",
        "\n",
        "        # Using K-Means++ for better initialisation\n",
        "        self.centroids = kmeans_plus_plus(X, self.k)\n",
        "\n",
        "        for i in range(self.max_iters):\n",
        "            #Assigning points to nearest centroid, this is where clusters are forming\n",
        "            #np.argmin returns the index of the closest centroid\n",
        "            self.labels = np.array([np.argmin([np.linalg.norm(x - c) for c in self.centroids]) for x in X]) #euclidean distance is being considered\n",
        "\n",
        "            #Computing new centroids\n",
        "            '''\n",
        "            For each cluster j, calculating the mean of all points assigned to it.\n",
        "\n",
        "            This updates the centroid locations based on the new cluster assignments.\n",
        "            for eg.\n",
        "            cluster 1: (1,2) and (2,4) new mean will be (1.5,3) New Centroid-1\n",
        "            cluster 2: (0,2) and (1,1.5) new mean will be (0.5,1.75) New Centroid-2\n",
        "            '''\n",
        "            new_centroids = np.array([X[self.labels == j].mean(axis=0) for j in range(self.k)])\n",
        "\n",
        "            #Checking for convergence\n",
        "            '''\n",
        "            If centroids don’t change much (tol = small threshold),we stop iterating.\n",
        "\n",
        "            This ensures that the algorithm stops when clusters are stable.\n",
        "            '''\n",
        "            if np.all(np.abs(new_centroids - self.centroids) < self.tol):\n",
        "                break\n",
        "\n",
        "            self.centroids = new_centroids  # Update centroids and the loop continues\n",
        "\n",
        "    def predict(self, X):\n",
        "        return np.array([np.argmin([np.linalg.norm(x - c) for c in self.centroids]) for x in X])\n",
        "\n",
        "    def find_optimal_k(self, X):\n",
        "        \"\"\" Automatically find the best k using the Elbow Method & Knee Point \"\"\"\n",
        "        wcss = [] # Within-Cluster Sum of Squares\n",
        "        for k in range(1, self.max_k + 1):\n",
        "            kmeans = KMeansFromScratch(k=k, auto_k=False)  #Run K-Means manually\n",
        "            kmeans.fit(X)\n",
        "            wcss.append(sum(np.linalg.norm(X[kmeans.labels == j] - kmeans.centroids[j]) ** 2 for j in range(k)))\n",
        "\n",
        "        return self.knee_locator(range(1, self.max_k + 1), wcss)\n",
        "\n",
        "    @staticmethod\n",
        "    def knee_locator(x, y):\n",
        "        \"\"\" Finding the 'knee' point (elbow) in the WCSS graph \"\"\"\n",
        "        x, y = np.array(x), np.array(y)\n",
        "        # Computing second derivative (curvature)\n",
        "        diff = np.gradient(y, edge_order=2)\n",
        "        elbow_index = np.argmin(diff) + 1  # Adding 1 to match k index\n",
        "        return x[elbow_index]\n",
        "\n",
        "    def plot_elbow(self, X):\n",
        "        \"\"\"Plot WCSS vs. k to visualize the Elbow Method \"\"\"\n",
        "        wcss = []\n",
        "        for k in range(1, self.max_k + 1):\n",
        "            kmeans = KMeansFromScratch(k=k, auto_k=False) #trying it on various songs\n",
        "            kmeans.fit(X) #fitting the data on that k\n",
        "            '''WCSS the sum of squared distances from each point to its assigned cluster center.'''\n",
        "            wcss.append(inertia(X, kmeans.labels, kmeans.centroids)) #appending the squared distances variance\n",
        "\n",
        "        best_k = self.knee_locator(range(1, self.max_k + 1), wcss)\n",
        "\n",
        "        plt.figure(figsize=(8, 5))\n",
        "        plt.plot(range(1, self.max_k + 1), wcss, marker='o', linestyle='--', color='b')\n",
        "        plt.xlabel('Number of Clusters (k)')\n",
        "        plt.ylabel('WCSS (Within-Cluster Sum of Squares)')\n",
        "        plt.title('Elbow Method for Optimal K')\n",
        "        plt.axvline(x=best_k, linestyle='--', color='r', label=f'Optimal K = {best_k}')\n",
        "        plt.legend()\n",
        "        plt.show()\n",
        "        print(f\"Optimal K found: {best_k}\")\n"
      ]
    },
    {
      "cell_type": "markdown",
      "source": [
        "**<h3>Inertia</h3>**\n",
        "\n",
        "Inertia is calculated by measuring the distance between a datapoint and its centroid, squaring the distance and summing those squares for each data point in the cluster. The sum or inertial value is the intracluster distance. The lower the sum the better because it means that the datapoints within the cluster are compact or more similar."
      ],
      "metadata": {
        "id": "2vcfpe2FZ5nX"
      }
    },
    {
      "cell_type": "markdown",
      "source": [
        "2. **Optimum number of clusters improves the accuracy**\n",
        "\n",
        " It measures the euclidean distance between each data point and its cluster center and chooses the number of clusters based on where change in “within cluster sum of squares” (WCSS) levels off. This value represents the total variance within each cluster that gets plotted against the number of clusters. ***Best K is where the curve forms an elbow (sudden drop, then flattening).***\n",
        ""
      ],
      "metadata": {
        "id": "1cS8NJizmrLI"
      }
    },
    {
      "cell_type": "code",
      "source": [
        "def inertia(X, labels, centroids):\n",
        "    \"\"\"Within-Cluster Sum of Squares (WCSS) is also known as inertia that require\n",
        "    Cluster labels for each sample and coordinates of cluster centers (k, n_features)\n",
        "\n",
        "    \"\"\"\n",
        "    k = centroids.shape[0]\n",
        "    total_wcss = 0.0\n",
        "\n",
        "    for j in range(k):\n",
        "        cluster_points = X[labels == j]\n",
        "        distances = np.linalg.norm(cluster_points - centroids[j], axis=1)  # Euclidean distances\n",
        "        total_wcss += np.sum(distances ** 2) #sqauring the sum\n",
        "\n",
        "    return total_wcss"
      ],
      "metadata": {
        "id": "_mKbpY_NZ5I9"
      },
      "execution_count": 28,
      "outputs": []
    },
    {
      "cell_type": "code",
      "source": [
        "models = {}\n",
        "labels = {}\n",
        "centroids = {}\n",
        "\n",
        "for lang in list_of_languages:\n",
        "    lang=lang.lower()\n",
        "    songs_scaled = globals()[lang + \"_songs_scaled\"]  # access variable like hindi_songs_scaled\n",
        "    # Create the model (auto-selecting optimal k using elbow method)\n",
        "    model = KMeansFromScratch(auto_k=True)\n",
        "    #Visualising elbow plot\n",
        "    model.plot_elbow(songs_scaled)\n",
        "    model.fit(songs_scaled) #Fit the model to different scaled languages song data\n",
        "\n",
        "    #Getting labels and centroids\n",
        "    models[lang] = model\n",
        "    labels[lang] = model.labels\n",
        "    centroids[lang] = model.centroids\n",
        "\n",
        "    #Printing 10 sample cluster assignments\n",
        "    print(f\"{lang.title()} Sample Labels:\", model.labels[:10])\n",
        "    print(f\"{lang.title()} Centroids Shape:\", model.centroids.shape)\n"
      ],
      "metadata": {
        "colab": {
          "base_uri": "https://localhost:8080/",
          "height": 1000
        },
        "id": "cpr8FPMUl6cR",
        "outputId": "3110ef62-d19a-4122-b8f8-f1a34b99d2df"
      },
      "execution_count": 29,
      "outputs": [
        {
          "output_type": "display_data",
          "data": {
            "text/plain": [
              "<Figure size 800x500 with 1 Axes>"
            ],
            "image/png": "[encoded data removed]"
          },
          "metadata": {}
        },
        {
          "output_type": "stream",
          "name": "stdout",
          "text": [
            "Optimal K found: 5\n",
            "Tamil Sample Labels: [3 3 2 0 0 2 2 2 2 2]\n",
            "Tamil Centroids Shape: (5, 15)\n"
          ]
        },
        {
          "output_type": "display_data",
          "data": {
            "text/plain": [
              "<Figure size 800x500 with 1 Axes>"
            ],
            "image/png": "[encoded data removed]"
          },
          "metadata": {}
        },
        {
          "output_type": "stream",
          "name": "stdout",
          "text": [
            "Optimal K found: 2\n",
            "English Sample Labels: [1 1 1 0 1 1 1 1 1 1]\n",
            "English Centroids Shape: (2, 15)\n"
          ]
        },
        {
          "output_type": "display_data",
          "data": {
            "text/plain": [
              "<Figure size 800x500 with 1 Axes>"
            ],
            "image/png": "[encoded data removed]"
          },
          "metadata": {}
        },
        {
          "output_type": "stream",
          "name": "stdout",
          "text": [
            "Optimal K found: 2\n",
            "Hindi Sample Labels: [0 0 0 1 1 0 1 0 0 1]\n",
            "Hindi Centroids Shape: (2, 15)\n"
          ]
        },
        {
          "output_type": "display_data",
          "data": {
            "text/plain": [
              "<Figure size 800x500 with 1 Axes>"
            ],
            "image/png": "[encoded data removed]"
          },
          "metadata": {}
        },
        {
          "output_type": "stream",
          "name": "stdout",
          "text": [
            "Optimal K found: 2\n",
            "Unknown Sample Labels: [0 1 1 1 0 0 1 1 1 0]\n",
            "Unknown Centroids Shape: (2, 15)\n"
          ]
        },
        {
          "output_type": "display_data",
          "data": {
            "text/plain": [
              "<Figure size 800x500 with 1 Axes>"
            ],
            "image/png": "[encoded data removed]"
          },
          "metadata": {}
        },
        {
          "output_type": "stream",
          "name": "stdout",
          "text": [
            "Optimal K found: 3\n",
            "Korean Sample Labels: [1 1 0 0 0 0 0 1 0 0]\n",
            "Korean Centroids Shape: (3, 15)\n"
          ]
        }
      ]
    },
    {
      "cell_type": "markdown",
      "source": [
        "**<h1>Song Recommender**"
      ],
      "metadata": {
        "id": "CVTARI2ZQEWA"
      }
    },
    {
      "cell_type": "code",
      "source": [
        "from sklearn.metrics.pairwise import cosine_similarity"
      ],
      "metadata": {
        "id": "Ri4mPYhyQZdR"
      },
      "execution_count": 31,
      "outputs": []
    },
    {
      "cell_type": "code",
      "source": [
        "import re"
      ],
      "metadata": {
        "id": "wiBFQp1SJMZq"
      },
      "execution_count": 32,
      "outputs": []
    },
    {
      "cell_type": "code",
      "source": [
        "from IPython.display import Image, display #to display artwork url"
      ],
      "metadata": {
        "id": "YJQ6PcwlVwZd"
      },
      "execution_count": 33,
      "outputs": []
    },
    {
      "cell_type": "code",
      "source": [
        "class SongRecommender:\n",
        "    def __init__(self, data, song_names,model):\n",
        "        self.data = data\n",
        "        self.song_names = song_names\n",
        "        self.model = model\n",
        "        self.labels = model.labels\n",
        "\n",
        "    def _normalise_name(self, name):\n",
        "        name = name.lower().strip()\n",
        "        name = re.sub(r'\\(.*?\\)', '', name).strip()\n",
        "        return name\n",
        "\n",
        "    def recommend(self, input_song_vector, input_song_name=None, n=7, language=None, indices_by_language=None,original_indices=None):\n",
        "        input_cluster = np.argmin([\n",
        "            np.linalg.norm(input_song_vector - c)\n",
        "            for c in self.model.centroids\n",
        "        ])\n",
        "        print(f\"🎯 Input song belongs to cluster: {input_cluster}\")\n",
        "\n",
        "        cluster_indices = np.where(self.labels == input_cluster)[0]\n",
        "        cluster_songs = self.data[cluster_indices]\n",
        "\n",
        "        similarities = cosine_similarity([input_song_vector], cluster_songs)[0]\n",
        "        sorted_indices = np.argsort(similarities)[::-1]\n",
        "\n",
        "        top_n_indices = []\n",
        "        input_name_norm = self._normalise_name(input_song_name) if input_song_name else \"\"\n",
        "\n",
        "        for i in sorted_indices:\n",
        "            idx = cluster_indices[i]\n",
        "            selected_song_name = self.song_names[idx]\n",
        "            selected_song_name_norm = self._normalise_name(selected_song_name)\n",
        "\n",
        "            if input_song_name and selected_song_name_norm == input_name_norm:\n",
        "                continue\n",
        "\n",
        "            top_n_indices.append(idx)\n",
        "            if len(top_n_indices) == n:\n",
        "                break\n",
        "\n",
        "        print(f\"\\n🎵 Top {n} recommendations:\")\n",
        "        recommendations = []\n",
        "\n",
        "        if original_indices is None:\n",
        "         raise ValueError(\"Missing original indices for mapping back to full dataset.\")\n",
        "\n",
        "        for idx in top_n_indices:\n",
        "            original_idx = original_indices[idx]  #Dynamic lookup\n",
        "            name = self.song_names[idx]\n",
        "            artist = original_data.loc[original_idx, 'artist_name']\n",
        "            track_url = original_data.loc[original_idx, 'track_url']\n",
        "            artwork_url = original_data.loc[original_idx, 'artwork_url']\n",
        "            language = original_data.loc[original_idx, 'language']\n",
        "\n",
        "            sim_score = cosine_similarity([input_song_vector], [self.data[idx]])[0][0]\n",
        "\n",
        "            print(f\"- {name} by {artist} (Similarity: {sim_score:.4f})\")\n",
        "            print(f\"  🎧 Track URL: {track_url}\")\n",
        "            display(Image(url=artwork_url, width=100))\n",
        "            print(f\"  🌐 Language: {language}\\n\")\n",
        "\n",
        "            recommendations.append({\n",
        "                \"name\": name,\n",
        "                \"artist\": artist,\n",
        "                \"similarity\": sim_score,\n",
        "                \"track_url\": track_url,\n",
        "                \"artwork_url\": artwork_url\n",
        "            })\n",
        "\n",
        "        return recommendations\n"
      ],
      "metadata": {
        "id": "mt-Z5t5brLIc"
      },
      "execution_count": 34,
      "outputs": []
    },
    {
      "cell_type": "code",
      "source": [
        "song_names = original_data[\"track_name\"].tolist()"
      ],
      "metadata": {
        "id": "Km88tCMZPcg1"
      },
      "execution_count": 35,
      "outputs": []
    },
    {
      "cell_type": "markdown",
      "source": [
        "**<h4>Making it dynamic**"
      ],
      "metadata": {
        "id": "ypKqmej0deIE"
      }
    },
    {
      "cell_type": "code",
      "source": [
        "user_language = input(\"Enter your language preference(english, hindi, tamil,korean,unknown): \").strip().lower()\n",
        "# Get indices of user_language songs in original_data\n",
        "user_language_mask = original_data['language'].str.lower() == user_language\n",
        "user_language_indices = original_data[user_language_mask].index.to_numpy()\n",
        "# user_language_indices = original_data[original_data['language'].str.contains(user_language, case=False, na=False)].index\n",
        "\n",
        "\n",
        "song_names_user_language = [song_names[i] for i in user_language_indices]  # Keep song names aligned"
      ],
      "metadata": {
        "colab": {
          "base_uri": "https://localhost:8080/"
        },
        "id": "zBTWVVleddTh",
        "outputId": "e94c092c-cce3-45ec-c8ab-7e44635ccd64"
      },
      "execution_count": 36,
      "outputs": [
        {
          "name": "stdout",
          "output_type": "stream",
          "text": [
            "Enter your language preference(english, hindi, tamil,korean,unknown): hindi\n"
          ]
        }
      ]
    },
    {
      "cell_type": "code",
      "source": [
        "# Match song in filtered language names\n",
        "\n",
        "user_input = input(\"Enter a song name: \").strip().lower()\n",
        "matching_indices = [i for i, name in enumerate(song_names_user_language) if name.strip().lower() == user_input] #matches indices in language\n",
        "\n",
        "if not matching_indices:\n",
        "    print(\"Song not found in specified dataset.\")\n",
        "else:\n",
        "    songs_scaled = globals()[user_language + \"_songs_scaled\"]\n",
        "\n",
        "    input_index = matching_indices[0]\n",
        "    input_song_vector = songs_scaled[input_index]  # <- Using original scaled vector\n",
        "\n",
        "    # Recommender should also use songs_scaled (not data_pca)\n",
        "    recommender = SongRecommender(songs_scaled, song_names_user_language, models[user_language])\n",
        "    recommender.recommend(input_song_vector, song_names_user_language[input_index], n=7,original_indices=user_language_indices)"
      ],
      "metadata": {
        "id": "W9O6ldgcDMPR",
        "outputId": "b4896d81-5f88-40c3-f51c-280c5178b592",
        "colab": {
          "base_uri": "https://localhost:8080/",
          "height": 1000
        }
      },
      "execution_count": 37,
      "outputs": [
        {
          "output_type": "stream",
          "name": "stdout",
          "text": [
            "Enter a song name: soch na sake\n",
            "🎯 Input song belongs to cluster: 1\n",
            "\n",
            "🎵 Top 7 recommendations:\n",
            "- Saans by A.R. Rahman, Shreya Ghoshal, Mohit Chauhan, Gulzar (Similarity: 0.9220)\n",
            "  🎧 Track URL: https://open.spotify.com/track/3X5Jbz7VhZfbPqIRmYIj8c\n"
          ]
        },
        {
          "output_type": "display_data",
          "data": {
            "text/html": [
              "<img src=\"https://i.scdn.co/image/ab67616d0000b2731efbf8b77e571388b3520f72\" width=\"100\"/>"
            ],
            "text/plain": [
              "<IPython.core.display.Image object>"
            ]
          },
          "metadata": {}
        },
        {
          "output_type": "stream",
          "name": "stdout",
          "text": [
            "  🌐 Language: Hindi\n",
            "\n",
            "- Main Hoon Saath Tere by Arijit Singh (Similarity: 0.8890)\n",
            "  🎧 Track URL: https://open.spotify.com/track/42LKIOzgYXRoP2SKAK6vWS\n"
          ]
        },
        {
          "output_type": "display_data",
          "data": {
            "text/html": [
              "<img src=\"https://i.scdn.co/image/ab67616d0000b273364567b793b756830eeec44f\" width=\"100\"/>"
            ],
            "text/plain": [
              "<IPython.core.display.Image object>"
            ]
          },
          "metadata": {}
        },
        {
          "output_type": "stream",
          "name": "stdout",
          "text": [
            "  🌐 Language: Hindi\n",
            "\n",
            "- Tujhe Kitna Chahne Lage by Arijit Singh (Similarity: 0.8703)\n",
            "  🎧 Track URL: https://open.spotify.com/track/5QtEFRYavs5S3GHtFEq7A4\n"
          ]
        },
        {
          "output_type": "display_data",
          "data": {
            "text/html": [
              "<img src=\"https://i.scdn.co/image/ab67616d0000b273c5545f737b16ad5ee767b62a\" width=\"100\"/>"
            ],
            "text/plain": [
              "<IPython.core.display.Image object>"
            ]
          },
          "metadata": {}
        },
        {
          "output_type": "stream",
          "name": "stdout",
          "text": [
            "  🌐 Language: Hindi\n",
            "\n",
            "- Love Me Thoda Aur by Pritam, Arijit Singh (Similarity: 0.8700)\n",
            "  🎧 Track URL: https://open.spotify.com/track/3cGMTR0B5zA3zQsVJjddtQ\n"
          ]
        },
        {
          "output_type": "display_data",
          "data": {
            "text/html": [
              "<img src=\"https://i.scdn.co/image/ab67616d0000b273a51f57ce4e92c152479caab7\" width=\"100\"/>"
            ],
            "text/plain": [
              "<IPython.core.display.Image object>"
            ]
          },
          "metadata": {}
        },
        {
          "output_type": "stream",
          "name": "stdout",
          "text": [
            "  🌐 Language: Hindi\n",
            "\n",
            "- Naio Jeena Tere Bina by Mohit Chauhan, Kumaar, Palak Muchhal (Similarity: 0.8699)\n",
            "  🎧 Track URL: https://open.spotify.com/track/1J9vOKmEVNQaiYuEESm8XK\n"
          ]
        },
        {
          "output_type": "display_data",
          "data": {
            "text/html": [
              "<img src=\"https://i.scdn.co/image/ab67616d0000b27345ad2806e45437e85e585b49\" width=\"100\"/>"
            ],
            "text/plain": [
              "<IPython.core.display.Image object>"
            ]
          },
          "metadata": {}
        },
        {
          "output_type": "stream",
          "name": "stdout",
          "text": [
            "  🌐 Language: Hindi\n",
            "\n",
            "- Tujhe Kitna Chahne Lage (From \"Kabir Singh\") by Arijit Singh, Mithoon (Similarity: 0.8680)\n",
            "  🎧 Track URL: https://open.spotify.com/track/2Fv2injs4qAm8mJBGaxVKU\n"
          ]
        },
        {
          "output_type": "display_data",
          "data": {
            "text/html": [
              "<img src=\"https://i.scdn.co/image/ab67616d0000b273ba03ff79dad25f7c3542382f\" width=\"100\"/>"
            ],
            "text/plain": [
              "<IPython.core.display.Image object>"
            ]
          },
          "metadata": {}
        },
        {
          "output_type": "stream",
          "name": "stdout",
          "text": [
            "  🌐 Language: Hindi\n",
            "\n",
            "- Love Me Thoda Aur (From \"Yaariyan\") by Arijit Singh (Similarity: 0.8506)\n",
            "  🎧 Track URL: https://open.spotify.com/track/5HY1pCLXAlq5A0G6WR5vvS\n"
          ]
        },
        {
          "output_type": "display_data",
          "data": {
            "text/html": [
              "<img src=\"https://i.scdn.co/image/ab67616d0000b2730ece3e23fc94cbc474c5264d\" width=\"100\"/>"
            ],
            "text/plain": [
              "<IPython.core.display.Image object>"
            ]
          },
          "metadata": {}
        },
        {
          "output_type": "stream",
          "name": "stdout",
          "text": [
            "  🌐 Language: Hindi\n",
            "\n"
          ]
        }
      ]
    },
    {
      "cell_type": "markdown",
      "source": [
        "Attempting to use a Spotify to fetch song features"
      ],
      "metadata": {
        "id": "0_4fmTldCfLB"
      }
    },
    {
      "cell_type": "code",
      "source": [
        "# !pip install spotipy\n",
        "# sp = spotipy.Spotify(auth_manager=SpotifyClientCredentials(\n",
        "#     client_id=\"14afb9597ff44b7eb738481d32b360a9\",\n",
        "#     client_secret=\"886a499f6c244dc58850572116a65b32\"\n",
        "# ))\n",
        "\n",
        "# def get_audio_features_from_spotify(song_name):\n",
        "#     results = sp.search(q=song_name, type='track', limit=1)\n",
        "#     if not results['tracks']['items']:\n",
        "#         return None\n",
        "#     track = results['tracks']['items'][0]\n",
        "#     features = sp.audio_features(track['id'])[0]\n",
        "#     return features\n",
        "\n",
        "# def preprocess_features(raw_features, scaler=None):\n",
        "#     features_used = [\n",
        "#         'acousticness', 'danceability', 'duration_ms', 'energy',\n",
        "#         'instrumentalness', 'key', 'liveness', 'loudness', 'mode',\n",
        "#         'speechiness', 'tempo', 'time_signature', 'valence'\n",
        "#     ]\n",
        "#     feature_vector = [raw_features[feat] for feat in features_used]\n",
        "#     return scaler.transform([feature_vector])[0] if scaler else feature_vector\n"
      ],
      "metadata": {
        "id": "XIyzMYIFFoYW"
      },
      "execution_count": 38,
      "outputs": []
    },
    {
      "cell_type": "code",
      "source": [
        "# #Handle both known and unknown songs\n",
        "# if not matching_indices:\n",
        "#     print(\"🔍 Song not found in the dataset.\")\n",
        "\n",
        "#     # if user_language == \"unknown\":\n",
        "#     #     print(\"📡 Fetching song features from Spotify...\")\n",
        "#     #     raw_features = get_audio_features_from_spotify(user_input)\n",
        "\n",
        "#     #     if raw_features is not None:\n",
        "#     #         input_song_vector = preprocess_features(raw_features, scaler=your_scaler)\n",
        "\n",
        "#     #         recommender = SongRecommender(songs_scaled, song_names_user_language, model)\n",
        "#     #         recommender.recommend(\n",
        "#     #             input_song_vector,\n",
        "#     #             input_song_name=user_input,\n",
        "#     #             n=7,\n",
        "#     #             original_indices=user_language_indices\n",
        "#     #         )\n",
        "#     #     else:\n",
        "#     #         print(\"❌ Could not fetch song from Spotify.\")\n",
        "#     # else:\n",
        "#     #     print(\"⚠️ Song not found in specified dataset.\")\n",
        "# else:\n",
        "#     # Use dataset vector normally\n",
        "#     input_index = matching_indices[0]\n",
        "#     input_song_vector = songs_scaled[input_index]\n",
        "\n",
        "#     recommender = SongRecommender(songs_scaled, song_names_user_language, model)\n",
        "#     recommender.recommend(\n",
        "#         input_song_vector,\n",
        "#         song_names_user_language[input_index],\n",
        "#         n=7,\n",
        "#         original_indices=user_language_indices\n",
        "#     )\n"
      ],
      "metadata": {
        "id": "NLZZsKmievt2"
      },
      "execution_count": 39,
      "outputs": []
    },
    {
      "cell_type": "code",
      "source": [],
      "metadata": {
        "id": "iUWfaUDTYRwq"
      },
      "execution_count": 39,
      "outputs": []
    },
    {
      "cell_type": "markdown",
      "source": [
        "\n",
        "\n",
        "---\n",
        "\n"
      ],
      "metadata": {
        "id": "hDgUsaiLSyZw"
      }
    },
    {
      "cell_type": "markdown",
      "source": [
        " **<h1> Cluster Evaluation Metrics </h1>**\n",
        "\n",
        "1. All data points within a cluster should be similar.\n",
        "\n",
        "2. Clusters should be distinct from each other.\n",
        "\n",
        "The goal of the k-means clustering algorithm is to minimize the sum of squared errors (SSE)"
      ],
      "metadata": {
        "id": "UMqNuFRta4CE"
      }
    },
    {
      "cell_type": "markdown",
      "source": [
        "**<h3>The Dunn index</h3>**\n",
        "\n",
        "The second property is measured with the Dunn index. The Dunn index represents the relationship between the minimum intercluster distance and the maximum intracluster distance. Clusters with a high intercluster distance indicate better quality because it means that the clusters are as different from each other as possible.\n",
        "\n",
        "Higher Dunn Index means better clustering such that clusters that are:Tight (low intra-cluster diameter) and Well-separated (high inter-cluster distance)"
      ],
      "metadata": {
        "id": "lSePdDZPbCoL"
      }
    },
    {
      "cell_type": "code",
      "source": [
        "import numpy as np\n",
        "from scipy.spatial.distance import cdist\n",
        "\n",
        "def dunn_index(X, labels):\n",
        "    \"\"\"\n",
        "     Dunn Index score (higher is better)\n",
        "    \"\"\"\n",
        "    unique_labels = np.unique(labels)\n",
        "    k = len(unique_labels)\n",
        "    if k < 2:\n",
        "        return 0  # Not defined for fewer than 2 clusters\n",
        "\n",
        "    clusters = [X[labels == label] for label in unique_labels]\n",
        "\n",
        "    # Calculating intercluster distances (min pairwise distance between clusters)\n",
        "    min_intercluster_dist = np.inf\n",
        "    for i in range(k):\n",
        "        for j in range(i + 1, k):\n",
        "            dist = cdist(clusters[i], clusters[j])\n",
        "            min_dist = np.min(dist)\n",
        "            min_intercluster_dist = min(min_intercluster_dist, min_dist)\n",
        "\n",
        "    # Calculating intracluster diameters (max pairwise distance within each cluster)\n",
        "    max_intracluster_diam = 0\n",
        "    for cluster in clusters:\n",
        "        if len(cluster) >= 2:\n",
        "            diam = np.max(cdist(cluster, cluster))\n",
        "            max_intracluster_diam = max(max_intracluster_diam, diam)\n",
        "\n",
        "    if max_intracluster_diam == 0:\n",
        "        return 0\n",
        "\n",
        "    return min_intercluster_dist/max_intracluster_diam\n"
      ],
      "metadata": {
        "id": "8gCY0f9dGZZD"
      },
      "execution_count": 40,
      "outputs": []
    },
    {
      "cell_type": "code",
      "source": [
        "def plot_dunn_index_vs_k(X, max_k=6):\n",
        "    from sklearn.cluster import KMeans  # or use your custom KMeansFromScratch\n",
        "    dunn_scores = []\n",
        "\n",
        "    for k in range(2, max_k + 1):  # Dunn Index is not defined for k=1\n",
        "        kmeans = KMeans(n_clusters=k, random_state=42)\n",
        "        kmeans.fit(X)\n",
        "        labels = kmeans.labels_\n",
        "\n",
        "        score = dunn_index(X, labels)\n",
        "        dunn_scores.append(score)\n",
        "\n",
        "        print(f\"K={k} → Dunn Index: {score:.4f}\")\n",
        "\n",
        "    # Plotting\n",
        "    plt.figure(figsize=(8, 5))\n",
        "    plt.plot(range(2, max_k + 1), dunn_scores, marker='o', color='green')\n",
        "    plt.title('Dunn Index vs Number of Clusters')\n",
        "    plt.xlabel('Number of Clusters (K)')\n",
        "    plt.ylabel('Dunn Index')\n",
        "    plt.grid(True)\n",
        "    plt.tight_layout()\n",
        "    plt.show()\n"
      ],
      "metadata": {
        "id": "KB-B69M-bDpN"
      },
      "execution_count": 41,
      "outputs": []
    },
    {
      "cell_type": "code",
      "source": [
        "plot_dunn_index_vs_k(hindi_songs_scaled, max_k=6)"
      ],
      "metadata": {
        "colab": {
          "base_uri": "https://localhost:8080/",
          "height": 594
        },
        "id": "DftBOh5IGWzj",
        "outputId": "f8457cd4-1e2f-48b6-dd13-28655bc5f612"
      },
      "execution_count": 42,
      "outputs": [
        {
          "output_type": "stream",
          "name": "stdout",
          "text": [
            "K=2 → Dunn Index: 0.0037\n",
            "K=3 → Dunn Index: 0.0028\n",
            "K=4 → Dunn Index: 0.0039\n",
            "K=5 → Dunn Index: 0.0075\n",
            "K=6 → Dunn Index: 0.0044\n"
          ]
        },
        {
          "output_type": "display_data",
          "data": {
            "text/plain": [
              "<Figure size 800x500 with 1 Axes>"
            ],
            "image/png": "[encoded data removed]"
          },
          "metadata": {}
        }
      ]
    },
    {
      "cell_type": "code",
      "source": [
        "plot_dunn_index_vs_k(english_songs_scaled, max_k=6)"
      ],
      "metadata": {
        "colab": {
          "base_uri": "https://localhost:8080/",
          "height": 594
        },
        "id": "FuQ3AhImG147",
        "outputId": "08f1d3c4-d9c2-4aeb-93e2-a1a0ee391e10"
      },
      "execution_count": 43,
      "outputs": [
        {
          "output_type": "stream",
          "name": "stdout",
          "text": [
            "K=2 → Dunn Index: 0.0036\n",
            "K=3 → Dunn Index: 0.0086\n",
            "K=4 → Dunn Index: 0.0075\n",
            "K=5 → Dunn Index: 0.0075\n",
            "K=6 → Dunn Index: 0.0116\n"
          ]
        },
        {
          "output_type": "display_data",
          "data": {
            "text/plain": [
              "<Figure size 800x500 with 1 Axes>"
            ],
            "image/png": "[encoded data removed]"
          },
          "metadata": {}
        }
      ]
    },
    {
      "cell_type": "code",
      "source": [
        "plot_dunn_index_vs_k(unknown_songs_scaled, max_k=6)"
      ],
      "metadata": {
        "colab": {
          "base_uri": "https://localhost:8080/",
          "height": 594
        },
        "id": "xF_e4cJ-G2Zn",
        "outputId": "21209181-f0af-40db-b82b-c78ae8a8351f"
      },
      "execution_count": 44,
      "outputs": [
        {
          "output_type": "stream",
          "name": "stdout",
          "text": [
            "K=2 → Dunn Index: 0.0108\n",
            "K=3 → Dunn Index: 0.0075\n",
            "K=4 → Dunn Index: 0.0015\n",
            "K=5 → Dunn Index: 0.0051\n",
            "K=6 → Dunn Index: 0.0017\n"
          ]
        },
        {
          "output_type": "display_data",
          "data": {
            "text/plain": [
              "<Figure size 800x500 with 1 Axes>"
            ],
            "image/png": "[encoded data removed]"
          },
          "metadata": {}
        }
      ]
    },
    {
      "cell_type": "code",
      "source": [
        "plot_dunn_index_vs_k(korean_songs_scaled, max_k=6)"
      ],
      "metadata": {
        "colab": {
          "base_uri": "https://localhost:8080/",
          "height": 594
        },
        "id": "Owmuvtl9G22Z",
        "outputId": "21c744ee-2db5-448a-dca1-eddc995359be"
      },
      "execution_count": 45,
      "outputs": [
        {
          "output_type": "stream",
          "name": "stdout",
          "text": [
            "K=2 → Dunn Index: 0.0200\n",
            "K=3 → Dunn Index: 0.1059\n",
            "K=4 → Dunn Index: 0.0813\n",
            "K=5 → Dunn Index: 0.0646\n",
            "K=6 → Dunn Index: 0.0437\n"
          ]
        },
        {
          "output_type": "display_data",
          "data": {
            "text/plain": [
              "<Figure size 800x500 with 1 Axes>"
            ],
            "image/png": "[encoded data removed]"
          },
          "metadata": {}
        }
      ]
    },
    {
      "cell_type": "code",
      "source": [
        "import joblib\n",
        "for lang,model in models.items():\n",
        "    joblib.dump(model, f\"{lang}_kmeans_model.pkl\")\n"
      ],
      "metadata": {
        "id": "cbANZgOo99GG"
      },
      "execution_count": 46,
      "outputs": []
    },
    {
      "cell_type": "code",
      "source": [
        "from google.colab import files\n",
        "files.download(\"english_kmeans_model.pkl\")\n",
        "files.download(\"hindi_kmeans_model.pkl\")\n",
        "files.download(\"korean_kmeans_model.pkl\")\n",
        "files.download(\"tamil_kmeans_model.pkl\")\n",
        "files.download(\"unknown_kmeans_model.pkl\")"
      ],
      "metadata": {
        "id": "bUaeEWnTnErl",
        "outputId": "46fe7fb1-1065-4ad2-c2c0-ac350e277039",
        "colab": {
          "base_uri": "https://localhost:8080/",
          "height": 17
        }
      },
      "execution_count": 47,
      "outputs": [
        {
          "output_type": "display_data",
          "data": {
            "text/plain": [
              "<IPython.core.display.Javascript object>"
            ],
            "application/javascript": [
              "\n",
              "    async function download(id, filename, size) {\n",
              "      if (!google.colab.kernel.accessAllowed) {\n",
              "        return;\n",
              "      }\n",
              "      const div = document.createElement('div');\n",
              "      const label = document.createElement('label');\n",
              "      label.textContent = `Downloading \"${filename}\": `;\n",
              "      div.appendChild(label);\n",
              "      const progress = document.createElement('progress');\n",
              "      progress.max = size;\n",
              "      div.appendChild(progress);\n",
              "      document.body.appendChild(div);\n",
              "\n",
              "      const buffers = [];\n",
              "      let downloaded = 0;\n",
              "\n",
              "      const channel = await google.colab.kernel.comms.open(id);\n",
              "      // Send a message to notify the kernel that we're ready.\n",
              "      channel.send({})\n",
              "\n",
              "      for await (const message of channel.messages) {\n",
              "        // Send a message to notify the kernel that we're ready.\n",
              "        channel.send({})\n",
              "        if (message.buffers) {\n",
              "          for (const buffer of message.buffers) {\n",
              "            buffers.push(buffer);\n",
              "            downloaded += buffer.byteLength;\n",
              "            progress.value = downloaded;\n",
              "          }\n",
              "        }\n",
              "      }\n",
              "      const blob = new Blob(buffers, {type: 'application/binary'});\n",
              "      const a = document.createElement('a');\n",
              "      a.href = window.URL.createObjectURL(blob);\n",
              "      a.download = filename;\n",
              "      div.appendChild(a);\n",
              "      a.click();\n",
              "      div.remove();\n",
              "    }\n",
              "  "
            ]
          },
          "metadata": {}
        },
        {
          "output_type": "display_data",
          "data": {
            "text/plain": [
              "<IPython.core.display.Javascript object>"
            ],
            "application/javascript": [
              "download(\"download_bfa9565b-5068-44ee-9c5f-2b241a9cee9b\", \"english_kmeans_model.pkl\", 46235)"
            ]
          },
          "metadata": {}
        },
        {
          "output_type": "display_data",
          "data": {
            "text/plain": [
              "<IPython.core.display.Javascript object>"
            ],
            "application/javascript": [
              "\n",
              "    async function download(id, filename, size) {\n",
              "      if (!google.colab.kernel.accessAllowed) {\n",
              "        return;\n",
              "      }\n",
              "      const div = document.createElement('div');\n",
              "      const label = document.createElement('label');\n",
              "      label.textContent = `Downloading \"${filename}\": `;\n",
              "      div.appendChild(label);\n",
              "      const progress = document.createElement('progress');\n",
              "      progress.max = size;\n",
              "      div.appendChild(progress);\n",
              "      document.body.appendChild(div);\n",
              "\n",
              "      const buffers = [];\n",
              "      let downloaded = 0;\n",
              "\n",
              "      const channel = await google.colab.kernel.comms.open(id);\n",
              "      // Send a message to notify the kernel that we're ready.\n",
              "      channel.send({})\n",
              "\n",
              "      for await (const message of channel.messages) {\n",
              "        // Send a message to notify the kernel that we're ready.\n",
              "        channel.send({})\n",
              "        if (message.buffers) {\n",
              "          for (const buffer of message.buffers) {\n",
              "            buffers.push(buffer);\n",
              "            downloaded += buffer.byteLength;\n",
              "            progress.value = downloaded;\n",
              "          }\n",
              "        }\n",
              "      }\n",
              "      const blob = new Blob(buffers, {type: 'application/binary'});\n",
              "      const a = document.createElement('a');\n",
              "      a.href = window.URL.createObjectURL(blob);\n",
              "      a.download = filename;\n",
              "      div.appendChild(a);\n",
              "      a.click();\n",
              "      div.remove();\n",
              "    }\n",
              "  "
            ]
          },
          "metadata": {}
        },
        {
          "output_type": "display_data",
          "data": {
            "text/plain": [
              "<IPython.core.display.Javascript object>"
            ],
            "application/javascript": [
              "download(\"download_3b1fadbd-8ad4-4e56-bbcf-1f4786c5624a\", \"hindi_kmeans_model.pkl\", 36371)"
            ]
          },
          "metadata": {}
        },
        {
          "output_type": "display_data",
          "data": {
            "text/plain": [
              "<IPython.core.display.Javascript object>"
            ],
            "application/javascript": [
              "\n",
              "    async function download(id, filename, size) {\n",
              "      if (!google.colab.kernel.accessAllowed) {\n",
              "        return;\n",
              "      }\n",
              "      const div = document.createElement('div');\n",
              "      const label = document.createElement('label');\n",
              "      label.textContent = `Downloading \"${filename}\": `;\n",
              "      div.appendChild(label);\n",
              "      const progress = document.createElement('progress');\n",
              "      progress.max = size;\n",
              "      div.appendChild(progress);\n",
              "      document.body.appendChild(div);\n",
              "\n",
              "      const buffers = [];\n",
              "      let downloaded = 0;\n",
              "\n",
              "      const channel = await google.colab.kernel.comms.open(id);\n",
              "      // Send a message to notify the kernel that we're ready.\n",
              "      channel.send({})\n",
              "\n",
              "      for await (const message of channel.messages) {\n",
              "        // Send a message to notify the kernel that we're ready.\n",
              "        channel.send({})\n",
              "        if (message.buffers) {\n",
              "          for (const buffer of message.buffers) {\n",
              "            buffers.push(buffer);\n",
              "            downloaded += buffer.byteLength;\n",
              "            progress.value = downloaded;\n",
              "          }\n",
              "        }\n",
              "      }\n",
              "      const blob = new Blob(buffers, {type: 'application/binary'});\n",
              "      const a = document.createElement('a');\n",
              "      a.href = window.URL.createObjectURL(blob);\n",
              "      a.download = filename;\n",
              "      div.appendChild(a);\n",
              "      a.click();\n",
              "      div.remove();\n",
              "    }\n",
              "  "
            ]
          },
          "metadata": {}
        },
        {
          "output_type": "display_data",
          "data": {
            "text/plain": [
              "<IPython.core.display.Javascript object>"
            ],
            "application/javascript": [
              "download(\"download_f4e11ad6-3338-45ff-a0a8-adc42f338158\", \"korean_kmeans_model.pkl\", 7283)"
            ]
          },
          "metadata": {}
        },
        {
          "output_type": "display_data",
          "data": {
            "text/plain": [
              "<IPython.core.display.Javascript object>"
            ],
            "application/javascript": [
              "\n",
              "    async function download(id, filename, size) {\n",
              "      if (!google.colab.kernel.accessAllowed) {\n",
              "        return;\n",
              "      }\n",
              "      const div = document.createElement('div');\n",
              "      const label = document.createElement('label');\n",
              "      label.textContent = `Downloading \"${filename}\": `;\n",
              "      div.appendChild(label);\n",
              "      const progress = document.createElement('progress');\n",
              "      progress.max = size;\n",
              "      div.appendChild(progress);\n",
              "      document.body.appendChild(div);\n",
              "\n",
              "      const buffers = [];\n",
              "      let downloaded = 0;\n",
              "\n",
              "      const channel = await google.colab.kernel.comms.open(id);\n",
              "      // Send a message to notify the kernel that we're ready.\n",
              "      channel.send({})\n",
              "\n",
              "      for await (const message of channel.messages) {\n",
              "        // Send a message to notify the kernel that we're ready.\n",
              "        channel.send({})\n",
              "        if (message.buffers) {\n",
              "          for (const buffer of message.buffers) {\n",
              "            buffers.push(buffer);\n",
              "            downloaded += buffer.byteLength;\n",
              "            progress.value = downloaded;\n",
              "          }\n",
              "        }\n",
              "      }\n",
              "      const blob = new Blob(buffers, {type: 'application/binary'});\n",
              "      const a = document.createElement('a');\n",
              "      a.href = window.URL.createObjectURL(blob);\n",
              "      a.download = filename;\n",
              "      div.appendChild(a);\n",
              "      a.click();\n",
              "      div.remove();\n",
              "    }\n",
              "  "
            ]
          },
          "metadata": {}
        },
        {
          "output_type": "display_data",
          "data": {
            "text/plain": [
              "<IPython.core.display.Javascript object>"
            ],
            "application/javascript": [
              "download(\"download_c88c22ad-35a2-4998-96b2-b4586fbaab0b\", \"tamil_kmeans_model.pkl\", 51531)"
            ]
          },
          "metadata": {}
        },
        {
          "output_type": "display_data",
          "data": {
            "text/plain": [
              "<IPython.core.display.Javascript object>"
            ],
            "application/javascript": [
              "\n",
              "    async function download(id, filename, size) {\n",
              "      if (!google.colab.kernel.accessAllowed) {\n",
              "        return;\n",
              "      }\n",
              "      const div = document.createElement('div');\n",
              "      const label = document.createElement('label');\n",
              "      label.textContent = `Downloading \"${filename}\": `;\n",
              "      div.appendChild(label);\n",
              "      const progress = document.createElement('progress');\n",
              "      progress.max = size;\n",
              "      div.appendChild(progress);\n",
              "      document.body.appendChild(div);\n",
              "\n",
              "      const buffers = [];\n",
              "      let downloaded = 0;\n",
              "\n",
              "      const channel = await google.colab.kernel.comms.open(id);\n",
              "      // Send a message to notify the kernel that we're ready.\n",
              "      channel.send({})\n",
              "\n",
              "      for await (const message of channel.messages) {\n",
              "        // Send a message to notify the kernel that we're ready.\n",
              "        channel.send({})\n",
              "        if (message.buffers) {\n",
              "          for (const buffer of message.buffers) {\n",
              "            buffers.push(buffer);\n",
              "            downloaded += buffer.byteLength;\n",
              "            progress.value = downloaded;\n",
              "          }\n",
              "        }\n",
              "      }\n",
              "      const blob = new Blob(buffers, {type: 'application/binary'});\n",
              "      const a = document.createElement('a');\n",
              "      a.href = window.URL.createObjectURL(blob);\n",
              "      a.download = filename;\n",
              "      div.appendChild(a);\n",
              "      a.click();\n",
              "      div.remove();\n",
              "    }\n",
              "  "
            ]
          },
          "metadata": {}
        },
        {
          "output_type": "display_data",
          "data": {
            "text/plain": [
              "<IPython.core.display.Javascript object>"
            ],
            "application/javascript": [
              "download(\"download_c1998b0d-1fd7-42b6-b860-9d13304034ba\", \"unknown_kmeans_model.pkl\", 94259)"
            ]
          },
          "metadata": {}
        }
      ]
    },
    {
      "cell_type": "code",
      "source": [
        "import pickle\n",
        "\n",
        "with open(\"hindi_songs_scaled.pkl\", \"wb\") as f:\n",
        "    pickle.dump(hindi_songs_scaled, f)\n",
        "with open(\"english_songs_scaled.pkl\", \"wb\") as f:\n",
        "    pickle.dump(english_songs_scaled, f)\n",
        "with open(\"korean_songs_scaled.pkl\", \"wb\") as f:\n",
        "    pickle.dump(korean_songs_scaled, f)\n",
        "with open(\"tamil_songs_scaled.pkl\", \"wb\") as f:\n",
        "    pickle.dump(tamil_songs_scaled, f)\n",
        "with open(\"unknown_songs_scaled.pkl\", \"wb\") as f:\n",
        "    pickle.dump(unknown_songs_scaled, f)"
      ],
      "metadata": {
        "id": "BjspW3ugnPg3"
      },
      "execution_count": 51,
      "outputs": []
    },
    {
      "cell_type": "code",
      "source": [
        "files.download(\"english_songs_scaled.pkl\")\n",
        "files.download(\"hindi_songs_scaled.pkl\")\n",
        "files.download(\"korean_songs_scaled.pkl\")\n",
        "files.download(\"tamil_songs_scaled.pkl\")\n",
        "files.download(\"unknown_songs_scaled.pkl\")"
      ],
      "metadata": {
        "id": "yJPXicLNom_B",
        "outputId": "6ab3948c-3be2-4a8b-e0d8-3b8a4bb21a6a",
        "colab": {
          "base_uri": "https://localhost:8080/",
          "height": 17
        }
      },
      "execution_count": 52,
      "outputs": [
        {
          "output_type": "display_data",
          "data": {
            "text/plain": [
              "<IPython.core.display.Javascript object>"
            ],
            "application/javascript": [
              "\n",
              "    async function download(id, filename, size) {\n",
              "      if (!google.colab.kernel.accessAllowed) {\n",
              "        return;\n",
              "      }\n",
              "      const div = document.createElement('div');\n",
              "      const label = document.createElement('label');\n",
              "      label.textContent = `Downloading \"${filename}\": `;\n",
              "      div.appendChild(label);\n",
              "      const progress = document.createElement('progress');\n",
              "      progress.max = size;\n",
              "      div.appendChild(progress);\n",
              "      document.body.appendChild(div);\n",
              "\n",
              "      const buffers = [];\n",
              "      let downloaded = 0;\n",
              "\n",
              "      const channel = await google.colab.kernel.comms.open(id);\n",
              "      // Send a message to notify the kernel that we're ready.\n",
              "      channel.send({})\n",
              "\n",
              "      for await (const message of channel.messages) {\n",
              "        // Send a message to notify the kernel that we're ready.\n",
              "        channel.send({})\n",
              "        if (message.buffers) {\n",
              "          for (const buffer of message.buffers) {\n",
              "            buffers.push(buffer);\n",
              "            downloaded += buffer.byteLength;\n",
              "            progress.value = downloaded;\n",
              "          }\n",
              "        }\n",
              "      }\n",
              "      const blob = new Blob(buffers, {type: 'application/binary'});\n",
              "      const a = document.createElement('a');\n",
              "      a.href = window.URL.createObjectURL(blob);\n",
              "      a.download = filename;\n",
              "      div.appendChild(a);\n",
              "      a.click();\n",
              "      div.remove();\n",
              "    }\n",
              "  "
            ]
          },
          "metadata": {}
        },
        {
          "output_type": "display_data",
          "data": {
            "text/plain": [
              "<IPython.core.display.Javascript object>"
            ],
            "application/javascript": [
              "download(\"download_bb6ee9e5-f23d-4f02-9c00-e1706094229e\", \"english_songs_scaled.pkl\", 682843)"
            ]
          },
          "metadata": {}
        },
        {
          "output_type": "display_data",
          "data": {
            "text/plain": [
              "<IPython.core.display.Javascript object>"
            ],
            "application/javascript": [
              "\n",
              "    async function download(id, filename, size) {\n",
              "      if (!google.colab.kernel.accessAllowed) {\n",
              "        return;\n",
              "      }\n",
              "      const div = document.createElement('div');\n",
              "      const label = document.createElement('label');\n",
              "      label.textContent = `Downloading \"${filename}\": `;\n",
              "      div.appendChild(label);\n",
              "      const progress = document.createElement('progress');\n",
              "      progress.max = size;\n",
              "      div.appendChild(progress);\n",
              "      document.body.appendChild(div);\n",
              "\n",
              "      const buffers = [];\n",
              "      let downloaded = 0;\n",
              "\n",
              "      const channel = await google.colab.kernel.comms.open(id);\n",
              "      // Send a message to notify the kernel that we're ready.\n",
              "      channel.send({})\n",
              "\n",
              "      for await (const message of channel.messages) {\n",
              "        // Send a message to notify the kernel that we're ready.\n",
              "        channel.send({})\n",
              "        if (message.buffers) {\n",
              "          for (const buffer of message.buffers) {\n",
              "            buffers.push(buffer);\n",
              "            downloaded += buffer.byteLength;\n",
              "            progress.value = downloaded;\n",
              "          }\n",
              "        }\n",
              "      }\n",
              "      const blob = new Blob(buffers, {type: 'application/binary'});\n",
              "      const a = document.createElement('a');\n",
              "      a.href = window.URL.createObjectURL(blob);\n",
              "      a.download = filename;\n",
              "      div.appendChild(a);\n",
              "      a.click();\n",
              "      div.remove();\n",
              "    }\n",
              "  "
            ]
          },
          "metadata": {}
        },
        {
          "output_type": "display_data",
          "data": {
            "text/plain": [
              "<IPython.core.display.Javascript object>"
            ],
            "application/javascript": [
              "download(\"download_4b42ee0b-d7ad-4c49-992d-fad2d290a5fa\", \"hindi_songs_scaled.pkl\", 534883)"
            ]
          },
          "metadata": {}
        },
        {
          "output_type": "display_data",
          "data": {
            "text/plain": [
              "<IPython.core.display.Javascript object>"
            ],
            "application/javascript": [
              "\n",
              "    async function download(id, filename, size) {\n",
              "      if (!google.colab.kernel.accessAllowed) {\n",
              "        return;\n",
              "      }\n",
              "      const div = document.createElement('div');\n",
              "      const label = document.createElement('label');\n",
              "      label.textContent = `Downloading \"${filename}\": `;\n",
              "      div.appendChild(label);\n",
              "      const progress = document.createElement('progress');\n",
              "      progress.max = size;\n",
              "      div.appendChild(progress);\n",
              "      document.body.appendChild(div);\n",
              "\n",
              "      const buffers = [];\n",
              "      let downloaded = 0;\n",
              "\n",
              "      const channel = await google.colab.kernel.comms.open(id);\n",
              "      // Send a message to notify the kernel that we're ready.\n",
              "      channel.send({})\n",
              "\n",
              "      for await (const message of channel.messages) {\n",
              "        // Send a message to notify the kernel that we're ready.\n",
              "        channel.send({})\n",
              "        if (message.buffers) {\n",
              "          for (const buffer of message.buffers) {\n",
              "            buffers.push(buffer);\n",
              "            downloaded += buffer.byteLength;\n",
              "            progress.value = downloaded;\n",
              "          }\n",
              "        }\n",
              "      }\n",
              "      const blob = new Blob(buffers, {type: 'application/binary'});\n",
              "      const a = document.createElement('a');\n",
              "      a.href = window.URL.createObjectURL(blob);\n",
              "      a.download = filename;\n",
              "      div.appendChild(a);\n",
              "      a.click();\n",
              "      div.remove();\n",
              "    }\n",
              "  "
            ]
          },
          "metadata": {}
        },
        {
          "output_type": "display_data",
          "data": {
            "text/plain": [
              "<IPython.core.display.Javascript object>"
            ],
            "application/javascript": [
              "download(\"download_d6d48228-1fc7-45a5-ac93-9ffc3db035b5\", \"korean_songs_scaled.pkl\", 96883)"
            ]
          },
          "metadata": {}
        },
        {
          "output_type": "display_data",
          "data": {
            "text/plain": [
              "<IPython.core.display.Javascript object>"
            ],
            "application/javascript": [
              "\n",
              "    async function download(id, filename, size) {\n",
              "      if (!google.colab.kernel.accessAllowed) {\n",
              "        return;\n",
              "      }\n",
              "      const div = document.createElement('div');\n",
              "      const label = document.createElement('label');\n",
              "      label.textContent = `Downloading \"${filename}\": `;\n",
              "      div.appendChild(label);\n",
              "      const progress = document.createElement('progress');\n",
              "      progress.max = size;\n",
              "      div.appendChild(progress);\n",
              "      document.body.appendChild(div);\n",
              "\n",
              "      const buffers = [];\n",
              "      let downloaded = 0;\n",
              "\n",
              "      const channel = await google.colab.kernel.comms.open(id);\n",
              "      // Send a message to notify the kernel that we're ready.\n",
              "      channel.send({})\n",
              "\n",
              "      for await (const message of channel.messages) {\n",
              "        // Send a message to notify the kernel that we're ready.\n",
              "        channel.send({})\n",
              "        if (message.buffers) {\n",
              "          for (const buffer of message.buffers) {\n",
              "            buffers.push(buffer);\n",
              "            downloaded += buffer.byteLength;\n",
              "            progress.value = downloaded;\n",
              "          }\n",
              "        }\n",
              "      }\n",
              "      const blob = new Blob(buffers, {type: 'application/binary'});\n",
              "      const a = document.createElement('a');\n",
              "      a.href = window.URL.createObjectURL(blob);\n",
              "      a.download = filename;\n",
              "      div.appendChild(a);\n",
              "      a.click();\n",
              "      div.remove();\n",
              "    }\n",
              "  "
            ]
          },
          "metadata": {}
        },
        {
          "output_type": "display_data",
          "data": {
            "text/plain": [
              "<IPython.core.display.Javascript object>"
            ],
            "application/javascript": [
              "download(\"download_d40cba79-a7e9-498a-a01f-6ed8bda99f50\", \"tamil_songs_scaled.pkl\", 757003)"
            ]
          },
          "metadata": {}
        },
        {
          "output_type": "display_data",
          "data": {
            "text/plain": [
              "<IPython.core.display.Javascript object>"
            ],
            "application/javascript": [
              "\n",
              "    async function download(id, filename, size) {\n",
              "      if (!google.colab.kernel.accessAllowed) {\n",
              "        return;\n",
              "      }\n",
              "      const div = document.createElement('div');\n",
              "      const label = document.createElement('label');\n",
              "      label.textContent = `Downloading \"${filename}\": `;\n",
              "      div.appendChild(label);\n",
              "      const progress = document.createElement('progress');\n",
              "      progress.max = size;\n",
              "      div.appendChild(progress);\n",
              "      document.body.appendChild(div);\n",
              "\n",
              "      const buffers = [];\n",
              "      let downloaded = 0;\n",
              "\n",
              "      const channel = await google.colab.kernel.comms.open(id);\n",
              "      // Send a message to notify the kernel that we're ready.\n",
              "      channel.send({})\n",
              "\n",
              "      for await (const message of channel.messages) {\n",
              "        // Send a message to notify the kernel that we're ready.\n",
              "        channel.send({})\n",
              "        if (message.buffers) {\n",
              "          for (const buffer of message.buffers) {\n",
              "            buffers.push(buffer);\n",
              "            downloaded += buffer.byteLength;\n",
              "            progress.value = downloaded;\n",
              "          }\n",
              "        }\n",
              "      }\n",
              "      const blob = new Blob(buffers, {type: 'application/binary'});\n",
              "      const a = document.createElement('a');\n",
              "      a.href = window.URL.createObjectURL(blob);\n",
              "      a.download = filename;\n",
              "      div.appendChild(a);\n",
              "      a.click();\n",
              "      div.remove();\n",
              "    }\n",
              "  "
            ]
          },
          "metadata": {}
        },
        {
          "output_type": "display_data",
          "data": {
            "text/plain": [
              "<IPython.core.display.Javascript object>"
            ],
            "application/javascript": [
              "download(\"download_48d887aa-8f50-4c6b-9180-8f16abf06e7b\", \"unknown_songs_scaled.pkl\", 1403203)"
            ]
          },
          "metadata": {}
        }
      ]
    },
    {
      "cell_type": "markdown",
      "source": [
        "\n",
        "\n",
        "---\n",
        "\n"
      ],
      "metadata": {
        "id": "5cDjIFXva4Wm"
      }
    },
    {
      "cell_type": "markdown",
      "source": [
        "<h3>Sources:\n",
        "\n",
        "\n",
        "1.   https://www.ibm.com/think/topics/k-means-clustering\n",
        "2.   List item\n",
        "3.\n",
        "\n"
      ],
      "metadata": {
        "id": "A1NRobNuErDY"
      }
    }
  ]
}
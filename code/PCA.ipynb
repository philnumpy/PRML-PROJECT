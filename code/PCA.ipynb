{
  "nbformat": 4,
  "nbformat_minor": 0,
  "metadata": {
    "colab": {
      "provenance": []
    },
    "kernelspec": {
      "name": "python3",
      "display_name": "Python 3"
    },
    "language_info": {
      "name": "python"
    }
  },
  "cells": [
    {
      "cell_type": "code",
      "execution_count": 1,
      "metadata": {
        "colab": {
          "base_uri": "https://localhost:8080/"
        },
        "id": "8YV6G-f6zvpS",
        "outputId": "afd0c4ba-2e77-466f-88ad-35a43ea5d9df"
      },
      "outputs": [
        {
          "output_type": "stream",
          "name": "stdout",
          "text": [
            "Reduced Data (2D):\n",
            " [[ 10.00846089   0.30632883]\n",
            " [ -5.06597661   0.60332725]\n",
            " [-10.00831175  -0.30507363]\n",
            " [  5.06582748  -0.60458245]]\n",
            "Principal Axes:\n",
            " [[-0.99667978 -0.00898486 -0.01200428 -0.08002863]\n",
            " [-0.08126757  0.04874921  0.14770632  0.98448054]]\n",
            "Explained Variance:\n",
            " [83.8874402   0.30547699]\n"
          ]
        }
      ],
      "source": [
        "import numpy as np\n",
        "import pandas as pd\n",
        "\n",
        "def pca_music_features(data, k=2):\n",
        "    \"\"\"\n",
        "    Custom implementation of PCA for reducing dimensions of music feature data.\n",
        "\n",
        "    Parameters:\n",
        "    - data: pd.DataFrame or np.ndarray → each row is a song, columns are features (e.g., tempo, energy)\n",
        "    - k: int → number of principal components to keep\n",
        "\n",
        "    Returns:\n",
        "    - reduced_data: Data with reduced dimensions\n",
        "    - principal_axes: Eigenvectors used for projection\n",
        "    - variance_explained: Eigenvalues of the top components\n",
        "    \"\"\"\n",
        "    # Convert to NumPy array if input is a DataFrame\n",
        "    if isinstance(data, pd.DataFrame):\n",
        "        data = data.values\n",
        "\n",
        "    # Step 1: Centering the data (subtract mean)\n",
        "    mean_vector = np.mean(data, axis=0)\n",
        "    centered_data = data - mean_vector\n",
        "\n",
        "    # Step 2: Calculate covariance matrix\n",
        "    covariance_matrix = np.cov(centered_data, rowvar=False)\n",
        "\n",
        "    # Step 3: Find eigenvalues and eigenvectors\n",
        "    eigen_vals, eigen_vecs = np.linalg.eigh(covariance_matrix)\n",
        "\n",
        "    # Step 4: Sort eigenvectors by decreasing eigenvalues\n",
        "    sorted_indices = np.argsort(eigen_vals)[::-1]\n",
        "    top_eigen_vecs = eigen_vecs[:, sorted_indices[:k]]\n",
        "    top_eigen_vals = eigen_vals[sorted_indices[:k]]\n",
        "\n",
        "    # Step 5: Project the data onto the new space\n",
        "    reduced_data = np.dot(centered_data, top_eigen_vecs)\n",
        "\n",
        "    return reduced_data, top_eigen_vecs.T, top_eigen_vals\n",
        "\n",
        "# Example to test PCA on music data\n",
        "if __name__ == \"__main__\":\n",
        "    # Let's say we have some features extracted from songs\n",
        "    music_features = pd.DataFrame({\n",
        "        'tempo': [110, 125, 130, 115],\n",
        "        'energy': [0.6, 0.8, 0.75, 0.65],\n",
        "        'danceability': [0.7, 0.9, 0.85, 0.6],\n",
        "        'loudness': [-6.0, -4.5, -5.0, -6.5]\n",
        "    })\n",
        "\n",
        "    reduced, axes, var = pca_music_features(music_features, k=2)\n",
        "\n",
        "    print(\"Reduced Data (2D):\\n\", reduced)\n",
        "    print(\"Principal Axes:\\n\", axes)\n",
        "    print(\"Explained Variance:\\n\", var)\n"
      ]
    }
  ]
}
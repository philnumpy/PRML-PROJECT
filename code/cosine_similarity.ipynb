{
  "nbformat": 4,
  "nbformat_minor": 0,
  "metadata": {
    "colab": {
      "provenance": []
    },
    "kernelspec": {
      "name": "python3",
      "display_name": "Python 3"
    },
    "language_info": {
      "name": "python"
    }
  },
  "cells": [
    {
      "cell_type": "code",
      "execution_count": 5,
      "metadata": {
        "colab": {
          "base_uri": "https://localhost:8080/"
        },
        "id": "-2OI3xgw2c82",
        "outputId": "b4d281be-5fd1-4a2e-9275-96ac5db9c960"
      },
      "outputs": [
        {
          "output_type": "stream",
          "name": "stdout",
          "text": [
            "Top similar songs to song 0:\n",
            "Song 3 → Similarity: 0.992\n",
            "Song 2 → Similarity: -0.757\n",
            "Song 1 → Similarity: -0.985\n"
          ]
        }
      ],
      "source": [
        "import numpy as np\n",
        "import pandas as pd\n",
        "\n",
        "# PCA logic\n",
        "def pca_music_features(data, k=2):\n",
        "    if isinstance(data, pd.DataFrame):\n",
        "        data = data.values\n",
        "\n",
        "    mean_vector = np.mean(data, axis=0) #taking the mean\n",
        "    centered_data = data - mean_vector #centering the data\n",
        "\n",
        "    cov_matrix = np.cov(centered_data, rowvar=False) #computign the covariance matrix\n",
        "    eigen_vals, eigen_vecs = np.linalg.eigh(cov_matrix) #and the eigen values and eigne vectors\n",
        "\n",
        "    sorted_indices = np.argsort(eigen_vals)[::-1]\n",
        "    top_eigen_vecs = eigen_vecs[:, sorted_indices[:k]] #taking the top k eigen vectors for projection\n",
        "\n",
        "    reduced_data = np.dot(centered_data, top_eigen_vecs) #reducing the data using these top principal components\n",
        "    return reduced_data\n",
        "\n",
        "# logic for Cosine Similarity\n",
        "def cosine_similarity(vec1, vec2):\n",
        "    dot = np.dot(vec1, vec2) #takign dot product\n",
        "    norm1 = np.linalg.norm(vec1) # and normalizing it\n",
        "    norm2 = np.linalg.norm(vec2)\n",
        "    return dot / (norm1 * norm2) if norm1 and norm2 else 0 #returning the cosine of the angle value\n",
        "\n",
        "def get_similar_songs(song_index, feature_matrix, top_n=3):\n",
        "    target = feature_matrix[song_index]\n",
        "    similarities = []\n",
        "\n",
        "    for idx, song_vec in enumerate(feature_matrix):\n",
        "        if idx == song_index:\n",
        "            continue\n",
        "        sim = cosine_similarity(target, song_vec) #storing the similiarites by appending\n",
        "        similarities.append((idx, sim))\n",
        "\n",
        "    similarities.sort(key=lambda x: x[1], reverse=True) #and sorting them on the basic of most similarity to the least\n",
        "    return similarities[:top_n]\n",
        "\n",
        "# Sample Data & Testing\n",
        "music_data = pd.DataFrame({\n",
        "    'tempo': [120, 130, 125, 110, 135],\n",
        "    'energy': [0.8, 0.9, 0.75, 0.6, 0.95],\n",
        "    'danceability': [0.7, 0.85, 0.65, 0.6, 0.9],\n",
        "    'loudness': [-5.0, -4.2, -6.0, -6.5, -3.8]\n",
        "})\n",
        "\n",
        "#applying PCA\n",
        "reduced_data = pca_music_features(music_data, k=2)\n",
        "\n",
        "# getting the similar songs to song at index 0\n",
        "similar = get_similar_songs(song_index=0, feature_matrix=reduced_data, top_n=3)\n",
        "\n",
        "print(\"Top similar songs to song 0:\") #and prinitng them\n",
        "for idx, score in similar:\n",
        "    print(f\"Song {idx} → Similarity: {score:.3f}\")\n"
      ]
    }
  ]
}